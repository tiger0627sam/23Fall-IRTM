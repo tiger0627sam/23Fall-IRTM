{
 "cells": [
  {
   "cell_type": "markdown",
   "id": "1894b07e",
   "metadata": {},
   "source": [
    "## 資料檢索與文字探勘 R12725049-pa1"
   ]
  },
  {
   "cell_type": "code",
   "execution_count": 1,
   "id": "8e785d65",
   "metadata": {},
   "outputs": [
    {
     "name": "stdout",
     "output_type": "stream",
     "text": [
      "3.11.4\n"
     ]
    }
   ],
   "source": [
    "from platform import python_version\n",
    "\n",
    "print(python_version())"
   ]
  },
  {
   "cell_type": "markdown",
   "id": "65c8066a",
   "metadata": {},
   "source": [
    "### Read Text Data"
   ]
  },
  {
   "cell_type": "code",
   "execution_count": 2,
   "id": "13feb89e",
   "metadata": {
    "scrolled": false
   },
   "outputs": [
    {
     "name": "stdout",
     "output_type": "stream",
     "text": [
      "And Yugoslav authorities are planning the arrest of eleven coal miners \r\n",
      "and two opposition politicians on suspicion of sabotage, that's in \r\n",
      "connection with strike action against President Slobodan Milosevic. \r\n",
      "You are listening to BBC news for The World.\n"
     ]
    }
   ],
   "source": [
    "import requests\n",
    "\n",
    "url = \"https://ceiba.ntu.edu.tw/course/35d27d/content/28.txt\"\n",
    "\n",
    "try:\n",
    "    response = requests.get(url)\n",
    "    response.raise_for_status()  # 檢查是否有錯誤的HTTP requests\n",
    "\n",
    "    # 獲取網頁內容\n",
    "    raw_data = response.text\n",
    "\n",
    "    print(raw_data)\n",
    "\n",
    "except requests.exceptions.RequestException as e:\n",
    "    print(f\"發生錯誤: {e}\")"
   ]
  },
  {
   "cell_type": "markdown",
   "id": "05f56e37",
   "metadata": {},
   "source": [
    "###  Lowercasing everything"
   ]
  },
  {
   "cell_type": "code",
   "execution_count": 3,
   "id": "8746ddf4",
   "metadata": {
    "scrolled": true
   },
   "outputs": [
    {
     "name": "stdout",
     "output_type": "stream",
     "text": [
      "and yugoslav authorities are planning the arrest of eleven coal miners \r\n",
      "and two opposition politicians on suspicion of sabotage, that's in \r\n",
      "connection with strike action against president slobodan milosevic. \r\n",
      "you are listening to bbc news for the world.\n"
     ]
    }
   ],
   "source": [
    "# 將文字轉換為小寫\n",
    "lower_data = raw_data.lower()\n",
    "print(lower_data)"
   ]
  },
  {
   "cell_type": "markdown",
   "id": "61f02c5a",
   "metadata": {},
   "source": [
    "### Tokenization"
   ]
  },
  {
   "cell_type": "code",
   "execution_count": 4,
   "id": "c6b516aa",
   "metadata": {},
   "outputs": [
    {
     "name": "stdout",
     "output_type": "stream",
     "text": [
      "['and', 'yugoslav', 'authorities', 'are', 'planning', 'the', 'arrest', 'of', 'eleven', 'coal', 'miners', 'and', 'two', 'opposition', 'politicians', 'on', 'suspicion', 'of', 'sabotage', \"that's\", 'in', 'connection', 'with', 'strike', 'action', 'against', 'president', 'slobodan', 'milosevic', 'you', 'are', 'listening', 'to', 'bbc', 'news', 'for', 'the', 'world']\n"
     ]
    }
   ],
   "source": [
    "def tokenize_text(text):\n",
    "    # empty List 用以儲存Tokens\n",
    "    tokens = []\n",
    "    \n",
    "    # empty String 用以儲存單字\n",
    "    current_token = \"\"\n",
    "    \n",
    "    # 追蹤每個字母\n",
    "    for char in text:\n",
    "        # 如果字母是空格或標點符號，並且current string is not empty，則將其添加到tokens List\n",
    "        if char.isspace() or char in ('.', ',', '!', '?', ';', ':'):\n",
    "            if current_token:\n",
    "                tokens.append(current_token)\n",
    "                current_token = \"\"\n",
    "        else:\n",
    "            # 如果字母不是空格或標點符號，則將其添加到current token\n",
    "            current_token += char\n",
    "    \n",
    "    # 將最後一個word添加到tokens列表中\n",
    "    if current_token:\n",
    "        tokens.append(current_token)\n",
    "    \n",
    "    return tokens\n",
    "\n",
    "text = lower_data\n",
    "tokens = tokenize_text(text)\n",
    "print(tokens)"
   ]
  },
  {
   "cell_type": "markdown",
   "id": "3ac43eaa",
   "metadata": {},
   "source": [
    "### Stopword removal"
   ]
  },
  {
   "cell_type": "code",
   "execution_count": 5,
   "id": "1a06cb5e",
   "metadata": {
    "scrolled": false
   },
   "outputs": [
    {
     "name": "stdout",
     "output_type": "stream",
     "text": [
      "i\n",
      "me\n",
      "my\n",
      "myself\n",
      "we\n",
      "our\n",
      "ours\n",
      "ourselves\n",
      "you\n",
      "your\n",
      "yours\n",
      "yourself\n",
      "yourselves\n",
      "he\n",
      "him\n",
      "his\n",
      "himself\n",
      "she\n",
      "her\n",
      "hers\n",
      "herself\n",
      "it\n",
      "its\n",
      "itself\n",
      "they\n",
      "them\n",
      "their\n",
      "theirs\n",
      "themselves\n",
      "what\n",
      "which\n",
      "who\n",
      "whom\n",
      "this\n",
      "that\n",
      "these\n",
      "those\n",
      "am\n",
      "is\n",
      "are\n",
      "was\n",
      "were\n",
      "be\n",
      "been\n",
      "being\n",
      "have\n",
      "has\n",
      "had\n",
      "having\n",
      "do\n",
      "does\n",
      "did\n",
      "doing\n",
      "a\n",
      "an\n",
      "the\n",
      "and\n",
      "but\n",
      "if\n",
      "or\n",
      "because\n",
      "as\n",
      "until\n",
      "while\n",
      "of\n",
      "at\n",
      "by\n",
      "for\n",
      "with\n",
      "about\n",
      "against\n",
      "between\n",
      "into\n",
      "through\n",
      "during\n",
      "before\n",
      "after\n",
      "above\n",
      "below\n",
      "to\n",
      "from\n",
      "up\n",
      "down\n",
      "in\n",
      "out\n",
      "on\n",
      "off\n",
      "over\n",
      "under\n",
      "again\n",
      "further\n",
      "then\n",
      "once\n",
      "here\n",
      "there\n",
      "when\n",
      "where\n",
      "why\n",
      "how\n",
      "all\n",
      "any\n",
      "both\n",
      "each\n",
      "few\n",
      "more\n",
      "most\n",
      "other\n",
      "some\n",
      "such\n",
      "no\n",
      "nor\n",
      "not\n",
      "only\n",
      "own\n",
      "same\n",
      "so\n",
      "than\n",
      "too\n",
      "very\n",
      "s\n",
      "t\n",
      "can\n",
      "will\n",
      "just\n",
      "don\n",
      "should\n",
      "now\n",
      "\n"
     ]
    }
   ],
   "source": [
    "# 讀取stopwords\n",
    "stopwords_file = open(\"NLTK's list of english stopwords.txt\", \"r\")\n",
    "stopwords = stopwords_file.read()\n",
    "print(stopwords)"
   ]
  },
  {
   "cell_type": "code",
   "execution_count": 6,
   "id": "b67bc08a",
   "metadata": {},
   "outputs": [
    {
     "name": "stdout",
     "output_type": "stream",
     "text": [
      "['i', 'me', 'my', 'myself', 'we', 'our', 'ours', 'ourselves', 'you', 'your', 'yours', 'yourself', 'yourselves', 'he', 'him', 'his', 'himself', 'she', 'her', 'hers', 'herself', 'it', 'its', 'itself', 'they', 'them', 'their', 'theirs', 'themselves', 'what', 'which', 'who', 'whom', 'this', 'that', 'these', 'those', 'am', 'is', 'are', 'was', 'were', 'be', 'been', 'being', 'have', 'has', 'had', 'having', 'do', 'does', 'did', 'doing', 'a', 'an', 'the', 'and', 'but', 'if', 'or', 'because', 'as', 'until', 'while', 'of', 'at', 'by', 'for', 'with', 'about', 'against', 'between', 'into', 'through', 'during', 'before', 'after', 'above', 'below', 'to', 'from', 'up', 'down', 'in', 'out', 'on', 'off', 'over', 'under', 'again', 'further', 'then', 'once', 'here', 'there', 'when', 'where', 'why', 'how', 'all', 'any', 'both', 'each', 'few', 'more', 'most', 'other', 'some', 'such', 'no', 'nor', 'not', 'only', 'own', 'same', 'so', 'than', 'too', 'very', 's', 't', 'can', 'will', 'just', 'don', 'should', 'now']\n"
     ]
    }
   ],
   "source": [
    "stopwords_list = stopwords.splitlines()\n",
    "print(stopwords_list)"
   ]
  },
  {
   "cell_type": "code",
   "execution_count": 7,
   "id": "d331e6db",
   "metadata": {},
   "outputs": [
    {
     "name": "stdout",
     "output_type": "stream",
     "text": [
      "['yugoslav', 'authorities', 'planning', 'arrest', 'eleven', 'coal', 'miners', 'two', 'opposition', 'politicians', 'suspicion', 'sabotage', \"that's\", 'connection', 'strike', 'action', 'president', 'slobodan', 'milosevic', 'listening', 'bbc', 'news', 'world']\n"
     ]
    }
   ],
   "source": [
    "# 使用列表過濾 stopwords\n",
    "filtered_tokens = [token for token in tokens if token not in stopwords_list]\n",
    "\n",
    "# 輸出過濾後的 token 列表\n",
    "print(filtered_tokens)"
   ]
  },
  {
   "cell_type": "markdown",
   "id": "3ab66428",
   "metadata": {},
   "source": [
    "### Stemming using Porter’s algorithm"
   ]
  },
  {
   "cell_type": "code",
   "execution_count": 8,
   "id": "522c03c1",
   "metadata": {},
   "outputs": [],
   "source": [
    "# import package\n",
    "from nltk.stem.porter import PorterStemmer\n",
    "import nltk\n",
    "\n",
    "# stemmer\n",
    "ps=PorterStemmer()"
   ]
  },
  {
   "cell_type": "code",
   "execution_count": 9,
   "id": "d3427bd1",
   "metadata": {},
   "outputs": [
    {
     "name": "stdout",
     "output_type": "stream",
     "text": [
      "yugoslav  :  yugoslav\n",
      "authorities  :  author\n",
      "planning  :  plan\n",
      "arrest  :  arrest\n",
      "eleven  :  eleven\n",
      "coal  :  coal\n",
      "miners  :  miner\n",
      "two  :  two\n",
      "opposition  :  opposit\n",
      "politicians  :  politician\n",
      "suspicion  :  suspicion\n",
      "sabotage  :  sabotag\n",
      "that's  :  that'\n",
      "connection  :  connect\n",
      "strike  :  strike\n",
      "action  :  action\n",
      "president  :  presid\n",
      "slobodan  :  slobodan\n",
      "milosevic  :  milosev\n",
      "listening  :  listen\n",
      "bbc  :  bbc\n",
      "news  :  news\n",
      "world  :  world\n"
     ]
    }
   ],
   "source": [
    "# stemming\n",
    "result = []\n",
    "for t in filtered_tokens:\n",
    "    print(t, \" : \", ps.stem(t))   \n",
    "    result.append(ps.stem(t))"
   ]
  },
  {
   "cell_type": "code",
   "execution_count": 10,
   "id": "0380bd0a",
   "metadata": {},
   "outputs": [
    {
     "name": "stdout",
     "output_type": "stream",
     "text": [
      "['yugoslav', 'author', 'plan', 'arrest', 'eleven', 'coal', 'miner', 'two', 'opposit', 'politician', 'suspicion', 'sabotag', \"that'\", 'connect', 'strike', 'action', 'presid', 'slobodan', 'milosev', 'listen', 'bbc', 'news', 'world']\n"
     ]
    }
   ],
   "source": [
    "# 輸出結果\n",
    "print(result)"
   ]
  },
  {
   "cell_type": "code",
   "execution_count": 11,
   "id": "0aaa0126",
   "metadata": {},
   "outputs": [
    {
     "name": "stdout",
     "output_type": "stream",
     "text": [
      "處理後的字串已保存到 R12725049-result.txt\n"
     ]
    }
   ],
   "source": [
    "# 要儲存的檔案名稱\n",
    "file_name = \"R12725049-result.txt\"\n",
    "\n",
    "result_text = '\\n'.join(result)\n",
    "\n",
    "with open(file_name, \"w\") as file:\n",
    "    file.write(result_text)\n",
    "\n",
    "print(f\"處理後的字串已保存到 {file_name}\")"
   ]
  },
  {
   "cell_type": "code",
   "execution_count": null,
   "id": "82affa45",
   "metadata": {},
   "outputs": [],
   "source": []
  }
 ],
 "metadata": {
  "kernelspec": {
   "display_name": "Python 3 (ipykernel)",
   "language": "python",
   "name": "python3"
  },
  "language_info": {
   "codemirror_mode": {
    "name": "ipython",
    "version": 3
   },
   "file_extension": ".py",
   "mimetype": "text/x-python",
   "name": "python",
   "nbconvert_exporter": "python",
   "pygments_lexer": "ipython3",
   "version": "3.11.4"
  }
 },
 "nbformat": 4,
 "nbformat_minor": 5
}
