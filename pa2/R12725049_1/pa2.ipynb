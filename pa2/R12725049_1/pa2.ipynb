{
 "cells": [
  {
   "cell_type": "markdown",
   "id": "1218c11b",
   "metadata": {},
   "source": [
    "## 資料檢索與文字探勘 R12725049-pa2"
   ]
  },
  {
   "cell_type": "code",
   "execution_count": 1,
   "id": "5be5c2d3",
   "metadata": {},
   "outputs": [
    {
     "name": "stdout",
     "output_type": "stream",
     "text": [
      "3.11.4\n"
     ]
    }
   ],
   "source": [
    "from platform import python_version\n",
    "\n",
    "print(python_version())"
   ]
  },
  {
   "cell_type": "markdown",
   "id": "af5f2601",
   "metadata": {},
   "source": [
    "### Construct a dictionary based on the terms extracted from the given documents.\n"
   ]
  },
  {
   "cell_type": "code",
   "execution_count": 2,
   "id": "bc88ac5b",
   "metadata": {},
   "outputs": [],
   "source": [
    "import os\n",
    "import math\n",
    "\n",
    "# 資料夾路徑\n",
    "folder_path = r'./data'\n",
    "\n",
    "# 存儲文檔內容的列表\n",
    "document_contents = []\n",
    "\n",
    "# 列出資料夾中的所有文件\n",
    "for filename in os.listdir(folder_path):\n",
    "    # 文件路徑\n",
    "    file_path = os.path.join(folder_path, filename)\n",
    "    \n",
    "    if os.path.isfile(file_path):\n",
    "        with open(file_path, \"r\", encoding=\"utf-8\") as file:\n",
    "            document_contents.append(file.read())"
   ]
  },
  {
   "cell_type": "code",
   "execution_count": 3,
   "id": "b96a3fde",
   "metadata": {},
   "outputs": [
    {
     "name": "stdout",
     "output_type": "stream",
     "text": [
      "the white house is also keeping a close watch on yugoslavia, where \n",
      "opposition forces are about to step up the pressure on president slobodan \n",
      "milosevic. but will it work? nbc's jim maceda is in belgrade tonight. \n",
      "serbia on the eve of a general strike. this two-hour roadblock is \n",
      "just a taste of what will come tomorrow, says the opposition, when \n",
      "a nationwide work stoppage is to begin. the purpose, to force out \n",
      "the man they say stole the presidential election, slobodan milosevic. \n",
      "the people don't accept to be victim and to be hostage of one person, \n",
      "milosevic. time is working against him now. but will the pressure \n",
      "work? four years ago, hundreds of thousands of serbs marched against \n",
      "milosevic calling for a general strike as well. the protest lasted \n",
      "three months, but milosevic survived. that's the real question. does \n",
      "the opposition have the power to confront the regime with its combined \n",
      "wealth to get rid of it? a case in point. these coal mine, the very \n",
      "heart of serbia's economy, now on strike, only a handful of workers \n",
      "guarding equipment. but with a week of electricity reserves, these \n",
      "engineers are worried about blackouts. \"we're just making a gesture \n",
      "to try to make this regime come to its senses.\" there are difficulties, \n",
      "too, spreading the word about the strike. independent radio station \n",
      "b-292 has been shut down three times. its signal jammed in belgrade \n",
      "leaving journalists frustrated. i'm waiting for a better time when \n",
      "people in belgrade can hear and listening my radio. poorly organized \n",
      "opposition rallies have been shrinking, now drawing barely 10,000 \n",
      "in belgrade. but opposition leaders hope all that will change tomorrow \n",
      "and civil disobedience throughout the land may give new life to their \n",
      "struggle to oust milosevic. jim maceda, nbc news, belgrade.\n"
     ]
    }
   ],
   "source": [
    "print(document_contents[0])"
   ]
  },
  {
   "cell_type": "code",
   "execution_count": 4,
   "id": "c84bcd0b",
   "metadata": {},
   "outputs": [],
   "source": [
    "def tokenize_text(text):\n",
    "    # empty List 用以儲存Tokens\n",
    "    tokens = []\n",
    "    \n",
    "    # empty String 用以儲存單字\n",
    "    current_token = \"\"\n",
    "    \n",
    "    separators = [' ', '.', ',', '!', '?', ';', ':', '_', '\\\"', '(', ')', '\\'', '`','@','$','%','&','*','{','/']\n",
    "    \n",
    "    # 追蹤每個字母\n",
    "    for char in text:\n",
    "        # 如果字母是空格或標點符號，並且current string is not empty，則將其添加到tokens List\n",
    "        if char.isspace()  or char in separators:\n",
    "            if current_token:\n",
    "                tokens.append(current_token)\n",
    "                current_token = \"\"\n",
    "        else:\n",
    "            # 如果字母不是空格或標點符號，則將其添加到current token\n",
    "            current_token += char\n",
    "    \n",
    "    # 將最後一個word添加到tokens列表中\n",
    "    if current_token:\n",
    "        tokens.append(current_token)\n",
    "    \n",
    "    return tokens"
   ]
  },
  {
   "cell_type": "code",
   "execution_count": 5,
   "id": "18c94371",
   "metadata": {},
   "outputs": [
    {
     "name": "stdout",
     "output_type": "stream",
     "text": [
      "['i', 'me', 'my', 'myself', 'we', 'our', 'ours', 'ourselves', 'you', 'your', 'yours', 'yourself', 'yourselves', 'he', 'him', 'his', 'himself', 'she', 'her', 'hers', 'herself', 'it', 'its', 'itself', 'they', 'them', 'their', 'theirs', 'themselves', 'what', 'which', 'who', 'whom', 'this', 'that', 'these', 'those', 'am', 'is', 'are', 'was', 'were', 'be', 'been', 'being', 'have', 'has', 'had', 'having', 'do', 'does', 'did', 'doing', 'a', 'an', 'the', 'and', 'but', 'if', 'or', 'because', 'as', 'until', 'while', 'of', 'at', 'by', 'for', 'with', 'about', 'against', 'between', 'into', 'through', 'during', 'before', 'after', 'above', 'below', 'to', 'from', 'up', 'down', 'in', 'out', 'on', 'off', 'over', 'under', 'again', 'further', 'then', 'once', 'here', 'there', 'when', 'where', 'why', 'how', 'all', 'any', 'both', 'each', 'few', 'more', 'most', 'other', 'some', 'such', 'no', 'nor', 'not', 'only', 'own', 'same', 'so', 'than', 'too', 'very', 's', 't', 'can', 'will', 'just', 'don', 'should', 'now']\n"
     ]
    }
   ],
   "source": [
    "# 讀取stopwords\n",
    "stopwords_file = open(\"NLTK's list of english stopwords.txt\", \"r\")\n",
    "stopwords = stopwords_file.read()\n",
    "stopwords_list = stopwords.splitlines()\n",
    "print(stopwords_list)"
   ]
  },
  {
   "cell_type": "code",
   "execution_count": 6,
   "id": "cafb92db",
   "metadata": {},
   "outputs": [],
   "source": [
    "# import package\n",
    "from nltk.stem.porter import PorterStemmer\n",
    "import nltk\n",
    "\n",
    "# stemmer\n",
    "ps=PorterStemmer()"
   ]
  },
  {
   "cell_type": "code",
   "execution_count": 7,
   "id": "6656d19b",
   "metadata": {
    "scrolled": true
   },
   "outputs": [
    {
     "name": "stdout",
     "output_type": "stream",
     "text": [
      "['white', 'hous', 'also', 'keep', 'close', 'watch', 'yugoslavia', 'opposit', 'forc', 'step', 'pressur', 'presid', 'slobodan', 'milosev', 'work', 'nbc', 'jim', 'maceda', 'belgrad', 'tonight', 'serbia', 'eve', 'gener', 'strike', 'two-hour', 'roadblock', 'tast', 'come', 'tomorrow', 'say', 'opposit', 'nationwid', 'work', 'stoppag', 'begin', 'purpos', 'forc', 'man', 'say', 'stole', 'presidenti', 'elect', 'slobodan', 'milosev', 'peopl', 'accept', 'victim', 'hostag', 'one', 'person', 'milosev', 'time', 'work', 'pressur', 'work', 'four', 'year', 'ago', 'hundr', 'thousand', 'serb', 'march', 'milosev', 'call', 'gener', 'strike', 'well', 'protest', 'last', 'three', 'month', 'milosev', 'surviv', 'real', 'question', 'opposit', 'power', 'confront', 'regim', 'combin', 'wealth', 'get', 'rid', 'case', 'point', 'coal', 'mine', 'heart', 'serbia', 'economi', 'strike', 'hand', 'worker', 'guard', 'equip', 'week', 'electr', 'reserv', 'engin', 'worri', 'blackout', 're', 'make', 'gestur', 'tri', 'make', 'regim', 'come', 'sens', 'difficulti', 'spread', 'word', 'strike', 'independ', 'radio', 'station', 'b-292', 'shut', 'three', 'time', 'signal', 'jam', 'belgrad', 'leav', 'journalist', 'frustrat', 'm', 'wait', 'better', 'time', 'peopl', 'belgrad', 'hear', 'listen', 'radio', 'poorli', 'organ', 'opposit', 'ralli', 'shrink', 'draw', 'bare', '10', '000', 'belgrad', 'opposit', 'leader', 'hope', 'chang', 'tomorrow', 'civil', 'disobedi', 'throughout', 'land', 'may', 'give', 'new', 'life', 'struggl', 'oust', 'milosev', 'jim', 'maceda', 'nbc', 'news', 'belgrad']\n"
     ]
    }
   ],
   "source": [
    "# Empty List for storing processed document\n",
    "processed_texts = []\n",
    "\n",
    "for document_content in document_contents:\n",
    "    result = []\n",
    "    # lower casting\n",
    "    document_content = document_content.lower()\n",
    "    # Tokenized\n",
    "    tokenized_content = tokenize_text(document_content)\n",
    "    # Stopwords removal\n",
    "    filtered_tokens = [token for token in tokenized_content if token not in stopwords_list]\n",
    "    # Stemming\n",
    "    for t in filtered_tokens:  \n",
    "        result.append(ps.stem(t))\n",
    "    # 存入List\n",
    "    processed_texts.append(result)\n",
    "\n",
    "# 以文件一做測試\n",
    "print(processed_texts[0])"
   ]
  },
  {
   "cell_type": "code",
   "execution_count": 8,
   "id": "3e9ccead",
   "metadata": {},
   "outputs": [],
   "source": [
    "# Empty list 用以儲存每個單字的index,term,frequency\n",
    "term_info_list = []\n",
    "\n",
    "# Empty dict for storing term_document_frequency\n",
    "term_document_frequency = {}\n",
    "\n",
    "# Loop start\n",
    "for words in processed_texts:\n",
    "    # 避免重複計算\n",
    "    unique_words = set(words)\n",
    "    \n",
    "    # 更新Frequency\n",
    "    for word in unique_words:\n",
    "        if word in term_document_frequency:\n",
    "            term_document_frequency[word] += 1\n",
    "        else:\n",
    "            term_document_frequency[word] = 1\n",
    "\n",
    "# 按照字母順序排列字典\n",
    "sorted_terms = sorted(term_document_frequency.items(), key=lambda x: x[0])\n",
    "\n",
    "# 紀錄 index並存入 term_info_list 中\n",
    "for index, (term, frequency) in enumerate(sorted_terms, start=1):\n",
    "    term_info = {'index': index, 'term': term, 'frequency': frequency}\n",
    "    term_info_list.append(term_info)"
   ]
  },
  {
   "cell_type": "code",
   "execution_count": 15,
   "id": "192fa842",
   "metadata": {},
   "outputs": [
    {
     "name": "stdout",
     "output_type": "stream",
     "text": [
      "字典已保存到 dictionary.txt\n"
     ]
    }
   ],
   "source": [
    "# 儲存字典為txt\n",
    "output_file = \"dictionary.txt\"\n",
    "\n",
    "with open(output_file, \"w\", encoding=\"utf-8\") as file:\n",
    "    # Header\n",
    "    file.write(\"t_index   term                     df\\n\")\n",
    "    \n",
    "    for term_info in term_info_list:\n",
    "        line = \"{:<8}  {:<25}  {}\\n\".format(term_info['index'], term_info['term'], term_info['frequency'])\n",
    "        file.write(line)\n",
    "\n",
    "print(f\"字典已保存到 {output_file}\")"
   ]
  },
  {
   "cell_type": "markdown",
   "id": "264b0d59",
   "metadata": {},
   "source": [
    "### Transfer each document into a tf-idf unit vector."
   ]
  },
  {
   "cell_type": "code",
   "execution_count": 10,
   "id": "aff6db97",
   "metadata": {},
   "outputs": [],
   "source": [
    "# Empty List for storing each document\n",
    "document_term_frequencies = []\n",
    "\n",
    "# Loop start\n",
    "for words in processed_texts:\n",
    "    # Empty dict for storing document_term_frequency\n",
    "    document_term_frequency = {}\n",
    "    \n",
    "    # 更新frequency\n",
    "    for word in words:\n",
    "        if word in document_term_frequency:\n",
    "            document_term_frequency[word] += 1\n",
    "        else:\n",
    "            document_term_frequency[word] = 1\n",
    "    \n",
    "    # 存入個文件的 List\n",
    "    document_term_frequencies.append(document_term_frequency)\n",
    "\n",
    "# 計算文件總數\n",
    "total_documents = len(processed_texts)\n",
    "\n",
    "tfidf_vectors = []\n",
    "\n",
    "for document_term_frequency in document_term_frequencies:\n",
    "    tfidf_vector = []\n",
    "            \n",
    "    for word, term_frequency in document_term_frequency.items():\n",
    "        # 計算 TF\n",
    "        tf = term_frequency / sum(document_term_frequency.values())\n",
    "        \n",
    "        # 計算 IDF\n",
    "        idf = math.log10(total_documents / term_document_frequency[word])\n",
    "        \n",
    "        # 計算 TF-IDF\n",
    "        tfidf = tf * idf\n",
    "        \n",
    "        # 獲取 term_index\n",
    "        term_index = next((item['index'] for item in term_info_list if item['term'] == word), None)\n",
    "        \n",
    "        # Add term_index and TF-IDF 值到向量\n",
    "        tfidf_info = {'index': term_index, 'tf-idf': tfidf, 'tf' : tf, 'idf' : idf}\n",
    "        tfidf_vector.append(tfidf_info)\n",
    "    \n",
    "    tfidf_vectors.append(tfidf_vector)"
   ]
  },
  {
   "cell_type": "code",
   "execution_count": 11,
   "id": "bd1e2d50",
   "metadata": {},
   "outputs": [
    {
     "name": "stdout",
     "output_type": "stream",
     "text": [
      "[{'index': 14237, 'tf-idf': 0.0009284568811649149, 'tf': 0.002638522427440633, 'idf': 0.35188515796150277}, {'index': 10994, 'tf-idf': 0.038085491179681734, 'tf': 0.044854881266490766, 'idf': 0.8490824210058456}, {'index': 3164, 'tf-idf': 0.0037924911025017803, 'tf': 0.002638522427440633, 'idf': 1.4373541278481747}, {'index': 9759, 'tf-idf': 0.014946330646736007, 'tf': 0.010554089709762533, 'idf': 1.4161648287782367}, {'index': 9526, 'tf-idf': 0.006760667188539511, 'tf': 0.002638522427440633, 'idf': 2.5622928644564746}, {'index': 11971, 'tf-idf': 0.009870889944679816, 'tf': 0.0079155672823219, 'idf': 1.2470224296778833}, {'index': 10152, 'tf-idf': 0.0056367391350506425, 'tf': 0.002638522427440633, 'idf': 2.1363241321841935}, {'index': 12706, 'tf-idf': 0.0026229317688376773, 'tf': 0.002638522427440633, 'idf': 0.9940911403894798}, {'index': 3889, 'tf-idf': 0.006760667188539511, 'tf': 0.002638522427440633, 'idf': 2.5622928644564746}, {'index': 4599, 'tf-idf': 0.005080397801765964, 'tf': 0.002638522427440633, 'idf': 1.9254707668693003}, {'index': 7402, 'tf-idf': 0.004707497662461296, 'tf': 0.002638522427440633, 'idf': 1.784141614072831}, {'index': 14139, 'tf-idf': 0.031218705039937733, 'tf': 0.029023746701846966, 'idf': 1.075626291830582}, {'index': 7559, 'tf-idf': 0.0013168460274017506, 'tf': 0.002638522427440633, 'idf': 0.49908464438526345}, {'index': 7126, 'tf-idf': 0.01603912463945191, 'tf': 0.005277044854881266, 'idf': 3.0394141191761372}, {'index': 3806, 'tf-idf': 0.02405868695917787, 'tf': 0.0079155672823219, 'idf': 3.0394141191761372}, {'index': 6516, 'tf-idf': 0.008019562319725955, 'tf': 0.002638522427440633, 'idf': 3.0394141191761372}, {'index': 7179, 'tf-idf': 0.009061714113151546, 'tf': 0.005277044854881266, 'idf': 1.717194824442218}, {'index': 3787, 'tf-idf': 0.013521334377079022, 'tf': 0.005277044854881266, 'idf': 2.5622928644564746}, {'index': 6512, 'tf-idf': 0.004530857056575773, 'tf': 0.002638522427440633, 'idf': 1.717194824442218}, {'index': 10369, 'tf-idf': 0.00213447281740861, 'tf': 0.002638522427440633, 'idf': 0.8089651977978632}, {'index': 1977, 'tf-idf': 0.0025431851128855047, 'tf': 0.002638522427440633, 'idf': 0.9638671577836063}, {'index': 7221, 'tf-idf': 0.007022103758256576, 'tf': 0.0079155672823219, 'idf': 0.8871257747930806}, {'index': 8660, 'tf-idf': 0.004707497662461296, 'tf': 0.002638522427440633, 'idf': 1.784141614072831}, {'index': 11956, 'tf-idf': 0.004645542264441446, 'tf': 0.002638522427440633, 'idf': 1.7606605182233082}, {'index': 9181, 'tf-idf': 0.0019713932660149367, 'tf': 0.002638522427440633, 'idf': 0.7471580478196611}, {'index': 1931, 'tf-idf': 0.008019562319725955, 'tf': 0.002638522427440633, 'idf': 3.0394141191761372}, {'index': 5516, 'tf-idf': 0.008019562319725955, 'tf': 0.002638522427440633, 'idf': 3.0394141191761372}, {'index': 12577, 'tf-idf': 0.00893181552318391, 'tf': 0.010554089709762533, 'idf': 0.8462895208216755}, {'index': 14141, 'tf-idf': 0.0014204613640062943, 'tf': 0.002638522427440633, 'idf': 0.5383548569583856}, {'index': 2929, 'tf-idf': 0.00416099240442528, 'tf': 0.002638522427440633, 'idf': 1.5770161212771812}, {'index': 10103, 'tf-idf': 0.010913278558999729, 'tf': 0.013192612137203167, 'idf': 0.8272265147721793}, {'index': 5061, 'tf-idf': 0.005651351823863862, 'tf': 0.005277044854881266, 'idf': 1.070931170622202}, {'index': 7605, 'tf-idf': 0.006760667188539511, 'tf': 0.002638522427440633, 'idf': 2.5622928644564746}, {'index': 7362, 'tf-idf': 0.043582182661429845, 'tf': 0.023746701846965697, 'idf': 1.8352941365202124}, {'index': 13434, 'tf-idf': 0.02405868695917787, 'tf': 0.0079155672823219, 'idf': 3.0394141191761372}, {'index': 12485, 'tf-idf': 0.01193278558729548, 'tf': 0.005277044854881266, 'idf': 2.2612628687924934}, {'index': 5826, 'tf-idf': 0.0019950208191888853, 'tf': 0.002638522427440633, 'idf': 0.7561128904725876}, {'index': 7424, 'tf-idf': 0.018820979715783663, 'tf': 0.013192612137203167, 'idf': 1.4266302624564016}, {'index': 10992, 'tf-idf': 0.007378924666450677, 'tf': 0.0079155672823219, 'idf': 0.9322041495282688}, {'index': 9400, 'tf-idf': 0.006733436019067018, 'tf': 0.005277044854881266, 'idf': 1.2759861256132}, {'index': 13851, 'tf-idf': 0.003109050189217816, 'tf': 0.005277044854881266, 'idf': 0.5891650108567761}, {'index': 9209, 'tf-idf': 0.0056367391350506425, 'tf': 0.002638522427440633, 'idf': 2.1363241321841935}, {'index': 7183, 'tf-idf': 0.002582364851774473, 'tf': 0.002638522427440633, 'idf': 0.9787162788225254}, {'index': 116, 'tf-idf': 0.0021412332838059724, 'tf': 0.002638522427440633, 'idf': 0.8115274145624636}, {'index': 7479, 'tf-idf': 0.011739669802708576, 'tf': 0.0079155672823219, 'idf': 1.48311161840885}, {'index': 10062, 'tf-idf': 0.025457261556999736, 'tf': 0.0158311345646438, 'idf': 1.6080503550171499}, {'index': 2016, 'tf-idf': 0.01910667873039421, 'tf': 0.0158311345646438, 'idf': 1.2069052064699008}, {'index': 14170, 'tf-idf': 0.004572126647742838, 'tf': 0.013192612137203167, 'idf': 0.3465671998989071}, {'index': 7885, 'tf-idf': 0.005501772057353067, 'tf': 0.002638522427440633, 'idf': 2.0851716097368125}, {'index': 13544, 'tf-idf': 0.0058138617696643045, 'tf': 0.010554089709762533, 'idf': 0.5508634026756929}, {'index': 6709, 'tf-idf': 0.009356846618033262, 'tf': 0.0079155672823219, 'idf': 1.1820816227448687}, {'index': 6534, 'tf-idf': 0.004763554364220213, 'tf': 0.005277044854881266, 'idf': 0.9026935520197303}, {'index': 7849, 'tf-idf': 0.0016344548039218451, 'tf': 0.002638522427440633, 'idf': 0.6194583706863793}, {'index': 3125, 'tf-idf': 0.0029699215482649616, 'tf': 0.002638522427440633, 'idf': 1.1256002667924205}, {'index': 3507, 'tf-idf': 0.0026866090240269106, 'tf': 0.002638522427440633, 'idf': 1.0182248201061992}, {'index': 9010, 'tf-idf': 0.004842464740158872, 'tf': 0.002638522427440633, 'idf': 1.8352941365202124}, {'index': 13288, 'tf-idf': 0.004242876926166622, 'tf': 0.002638522427440633, 'idf': 1.6080503550171499}, {'index': 14043, 'tf-idf': 0.006760667188539511, 'tf': 0.002638522427440633, 'idf': 2.5622928644564746}, {'index': 14010, 'tf-idf': 0.0019425278674291512, 'tf': 0.002638522427440633, 'idf': 0.7362180617556483}, {'index': 1417, 'tf-idf': 0.004707497662461296, 'tf': 0.002638522427440633, 'idf': 1.784141614072831}, {'index': 4751, 'tf-idf': 0.003386647133255002, 'tf': 0.002638522427440633, 'idf': 1.2835392635036458}, {'index': 8071, 'tf-idf': 0.006368892910131403, 'tf': 0.005277044854881266, 'idf': 1.2069052064699008}, {'index': 3745, 'tf-idf': 0.004995477792870446, 'tf': 0.002638522427440633, 'idf': 1.893286083497899}, {'index': 11147, 'tf-idf': 0.002108385956294522, 'tf': 0.0079155672823219, 'idf': 0.26635942581187455}, {'index': 8749, 'tf-idf': 0.008019562319725955, 'tf': 0.002638522427440633, 'idf': 3.0394141191761372}, {'index': 8984, 'tf-idf': 0.008019562319725955, 'tf': 0.002638522427440633, 'idf': 3.0394141191761372}, {'index': 12566, 'tf-idf': 0.002680396845033678, 'tf': 0.005277044854881266, 'idf': 0.507935202133882}, {'index': 3136, 'tf-idf': 0.00782644653513905, 'tf': 0.005277044854881266, 'idf': 1.48311161840885}, {'index': 5276, 'tf-idf': 0.0060030138675072, 'tf': 0.0079155672823219, 'idf': 0.7583807519284096}, {'index': 11562, 'tf-idf': 0.008019562319725955, 'tf': 0.002638522427440633, 'idf': 3.0394141191761372}, {'index': 10497, 'tf-idf': 0.0033471295713297967, 'tf': 0.002638522427440633, 'idf': 1.268562107533993}, {'index': 8750, 'tf-idf': 0.0011511075107017276, 'tf': 0.002638522427440633, 'idf': 0.4362697465559548}, {'index': 8252, 'tf-idf': 0.006431013529942413, 'tf': 0.002638522427440633, 'idf': 2.4373541278481747}, {'index': 10623, 'tf-idf': 0.0036832755743798147, 'tf': 0.002638522427440633, 'idf': 1.3959614426899498}, {'index': 13233, 'tf-idf': 0.008019562319725955, 'tf': 0.002638522427440633, 'idf': 3.0394141191761372}, {'index': 12738, 'tf-idf': 0.00596639279364774, 'tf': 0.002638522427440633, 'idf': 2.2612628687924934}, {'index': 4264, 'tf-idf': 0.004842464740158872, 'tf': 0.002638522427440633, 'idf': 1.8352941365202124}, {'index': 10107, 'tf-idf': 0.003978720849957471, 'tf': 0.002638522427440633, 'idf': 1.5079352021338819}, {'index': 14253, 'tf-idf': 0.004337362400856099, 'tf': 0.005277044854881266, 'idf': 0.8219301749622309}, {'index': 4792, 'tf-idf': 0.006175314287177093, 'tf': 0.002638522427440633, 'idf': 2.3404441148401185}, {'index': 10085, 'tf-idf': 0.002765667660906708, 'tf': 0.002638522427440633, 'idf': 1.0481880434836424}, {'index': 1570, 'tf-idf': 0.002562607539393075, 'tf': 0.002638522427440633, 'idf': 0.9712282574299755}, {'index': 9940, 'tf-idf': 0.005067191942630672, 'tf': 0.005277044854881266, 'idf': 0.9602328731285124}, {'index': 9083, 'tf-idf': 0.0007086071438891635, 'tf': 0.002638522427440633, 'idf': 0.26856210753399296}, {'index': 1640, 'tf-idf': 0.0033397041622278733, 'tf': 0.005277044854881266, 'idf': 0.632873938742182}, {'index': 10000, 'tf-idf': 0.008019562319725955, 'tf': 0.002638522427440633, 'idf': 3.0394141191761372}, {'index': 13404, 'tf-idf': 0.008853225768646672, 'tf': 0.005277044854881266, 'idf': 1.6776862831585442}, {'index': 9409, 'tf-idf': 0.0020314015170401606, 'tf': 0.002638522427440633, 'idf': 0.7699011749582209}, {'index': 1172, 'tf-idf': 0.008019562319725955, 'tf': 0.002638522427440633, 'idf': 3.0394141191761372}, {'index': 1173, 'tf-idf': 0.02405868695917787, 'tf': 0.0079155672823219, 'idf': 3.0394141191761372}, {'index': 13379, 'tf-idf': 0.004772995244849243, 'tf': 0.002638522427440633, 'idf': 1.8089651977978631}, {'index': 7475, 'tf-idf': 0.003218654838085141, 'tf': 0.002638522427440633, 'idf': 1.2198701836342685}, {'index': 8886, 'tf-idf': 0.006760667188539511, 'tf': 0.002638522427440633, 'idf': 2.5622928644564746}, {'index': 3579, 'tf-idf': 0.003491849011982422, 'tf': 0.002638522427440633, 'idf': 1.323410775541338}, {'index': 10138, 'tf-idf': 0.008019562319725955, 'tf': 0.002638522427440633, 'idf': 3.0394141191761372}, {'index': 9277, 'tf-idf': 0.008019562319725955, 'tf': 0.002638522427440633, 'idf': 3.0394141191761372}, {'index': 5141, 'tf-idf': 0.004916419155990648, 'tf': 0.002638522427440633, 'idf': 1.863322860120456}, {'index': 11039, 'tf-idf': 0.0013985745978218667, 'tf': 0.0079155672823219, 'idf': 0.1766865908581625}, {'index': 12869, 'tf-idf': 0.0018442480325488624, 'tf': 0.002638522427440633, 'idf': 0.6989700043360189}, {'index': 1229, 'tf-idf': 0.000952231504316684, 'tf': 0.002638522427440633, 'idf': 0.36089574013602327}, {'index': 1704, 'tf-idf': 0.0025621693537322575, 'tf': 0.005277044854881266, 'idf': 0.4855310925322628}, {'index': 11427, 'tf-idf': 0.001701747858443063, 'tf': 0.002638522427440633, 'idf': 0.6449624383499208}, {'index': 3142, 'tf-idf': 0.006733436019067018, 'tf': 0.005277044854881266, 'idf': 1.2759861256132}, {'index': 8658, 'tf-idf': 0.004916419155990648, 'tf': 0.002638522427440633, 'idf': 1.863322860120456}, {'index': 4095, 'tf-idf': 0.008019562319725955, 'tf': 0.002638522427440633, 'idf': 3.0394141191761372}, {'index': 7582, 'tf-idf': 0.008019562319725955, 'tf': 0.002638522427440633, 'idf': 3.0394141191761372}, {'index': 9182, 'tf-idf': 0.004477549969271585, 'tf': 0.002638522427440633, 'idf': 1.6969914383539308}, {'index': 8027, 'tf-idf': 0.003225748417664107, 'tf': 0.005277044854881266, 'idf': 0.6112793251473483}, {'index': 6004, 'tf-idf': 0.0030126306804371915, 'tf': 0.002638522427440633, 'idf': 1.1417870278856956}, {'index': 12896, 'tf-idf': 0.001904463008633368, 'tf': 0.005277044854881266, 'idf': 0.36089574013602327}, {'index': 14066, 'tf-idf': 0.0022552049824763544, 'tf': 0.002638522427440633, 'idf': 0.8547226883585384}, {'index': 14041, 'tf-idf': 0.003201422998615596, 'tf': 0.002638522427440633, 'idf': 1.2133393164753108}, {'index': 6351, 'tf-idf': 0.001510676777894532, 'tf': 0.002638522427440633, 'idf': 0.5725464988220277}, {'index': 2516, 'tf-idf': 0.001265191277414313, 'tf': 0.002638522427440633, 'idf': 0.47950749414002464}, {'index': 12113, 'tf-idf': 0.002208377064007323, 'tf': 0.0079155672823219, 'idf': 0.2789916357529251}, {'index': 4342, 'tf-idf': 0.008019562319725955, 'tf': 0.002638522427440633, 'idf': 3.0394141191761372}, {'index': 7894, 'tf-idf': 0.0026469394411760584, 'tf': 0.005277044854881266, 'idf': 0.501595024102863}, {'index': 10666, 'tf-idf': 0.008755688007728395, 'tf': 0.005277044854881266, 'idf': 1.659202877464531}, {'index': 9983, 'tf-idf': 0.003366718009533509, 'tf': 0.002638522427440633, 'idf': 1.2759861256132}, {'index': 8986, 'tf-idf': 0.004995477792870446, 'tf': 0.002638522427440633, 'idf': 1.893286083497899}, {'index': 3323, 'tf-idf': 0.009414995324922591, 'tf': 0.005277044854881266, 'idf': 1.784141614072831}, {'index': 6211, 'tf-idf': 0.010543648728326712, 'tf': 0.005277044854881266, 'idf': 1.998021434017912}, {'index': 5828, 'tf-idf': 0.003308929509671161, 'tf': 0.002638522427440633, 'idf': 1.25408428416537}, {'index': 3193, 'tf-idf': 0.0026866090240269106, 'tf': 0.002638522427440633, 'idf': 1.0182248201061992}, {'index': 12948, 'tf-idf': 0.008019562319725955, 'tf': 0.002638522427440633, 'idf': 3.0394141191761372}, {'index': 4229, 'tf-idf': 0.008019562319725955, 'tf': 0.002638522427440633, 'idf': 3.0394141191761372}, {'index': 3113, 'tf-idf': 0.0016301060483015991, 'tf': 0.002638522427440633, 'idf': 0.6178101923063061}, {'index': 1269, 'tf-idf': 0.003514100113662799, 'tf': 0.002638522427440633, 'idf': 1.3318439430782008}, {'index': 6592, 'tf-idf': 0.003736582661684002, 'tf': 0.002638522427440633, 'idf': 1.4161648287782367}, {'index': 12828, 'tf-idf': 0.002697574617090651, 'tf': 0.002638522427440633, 'idf': 1.0223807798773568}, {'index': 4550, 'tf-idf': 0.0072252879248341844, 'tf': 0.002638522427440633, 'idf': 2.738384123512156}, {'index': 5298, 'tf-idf': 0.0016128742088320535, 'tf': 0.002638522427440633, 'idf': 0.6112793251473483}, {'index': 11936, 'tf-idf': 0.00416099240442528, 'tf': 0.002638522427440633, 'idf': 1.5770161212771812}, {'index': 10636, 'tf-idf': 0.0032361497692171017, 'tf': 0.002638522427440633, 'idf': 1.2265007625332816}, {'index': 9228, 'tf-idf': 0.0021012561226644924, 'tf': 0.002638522427440633, 'idf': 0.7963760704898427}, {'index': 7664, 'tf-idf': 0.008019562319725955, 'tf': 0.002638522427440633, 'idf': 3.0394141191761372}, {'index': 7629, 'tf-idf': 0.0027425174648446887, 'tf': 0.002638522427440633, 'idf': 1.039414119176137}, {'index': 12961, 'tf-idf': 0.005789752187762217, 'tf': 0.002638522427440633, 'idf': 2.1943160791618803}, {'index': 1220, 'tf-idf': 0.002552855176438026, 'tf': 0.002638522427440633, 'idf': 0.9675321118700118}, {'index': 3635, 'tf-idf': 0.00416099240442528, 'tf': 0.002638522427440633, 'idf': 1.5770161212771812}, {'index': 8763, 'tf-idf': 0.005789752187762217, 'tf': 0.002638522427440633, 'idf': 2.1943160791618803}, {'index': 11576, 'tf-idf': 0.0020252572892866445, 'tf': 0.002638522427440633, 'idf': 0.7675725126396382}, {'index': 10387, 'tf-idf': 0.002154875060761356, 'tf': 0.002638522427440633, 'idf': 0.8166976480285539}, {'index': 7241, 'tf-idf': 0.008019562319725955, 'tf': 0.002638522427440633, 'idf': 3.0394141191761372}, {'index': 11855, 'tf-idf': 0.008019562319725955, 'tf': 0.002638522427440633, 'idf': 3.0394141191761372}, {'index': 1042, 'tf-idf': 0.0035599420557984787, 'tf': 0.002638522427440633, 'idf': 1.3492180391476234}, {'index': 6526, 'tf-idf': 0.008019562319725955, 'tf': 0.002638522427440633, 'idf': 3.0394141191761372}, {'index': 1606, 'tf-idf': 0.0026126546081951334, 'tf': 0.002638522427440633, 'idf': 0.9901960965059555}, {'index': 4774, 'tf-idf': 0.005789752187762217, 'tf': 0.002638522427440633, 'idf': 2.1943160791618803}, {'index': 2203, 'tf-idf': 0.005789752187762217, 'tf': 0.002638522427440633, 'idf': 2.1943160791618803}, {'index': 14243, 'tf-idf': 0.006431013529942413, 'tf': 0.002638522427440633, 'idf': 2.4373541278481747}, {'index': 5718, 'tf-idf': 0.002633692054803501, 'tf': 0.005277044854881266, 'idf': 0.49908464438526345}, {'index': 7623, 'tf-idf': 0.004477549969271585, 'tf': 0.002638522427440633, 'idf': 1.6969914383539308}, {'index': 1183, 'tf-idf': 0.006760667188539511, 'tf': 0.002638522427440633, 'idf': 2.5622928644564746}, {'index': 4378, 'tf-idf': 0.005789752187762217, 'tf': 0.002638522427440633, 'idf': 2.1943160791618803}, {'index': 10433, 'tf-idf': 0.002332659846203365, 'tf': 0.002638522427440633, 'idf': 0.8840780817110754}, {'index': 10145, 'tf-idf': 0.003218654838085141, 'tf': 0.002638522427440633, 'idf': 1.2198701836342685}, {'index': 13911, 'tf-idf': 0.0014798090331986642, 'tf': 0.002638522427440633, 'idf': 0.5608476235822938}, {'index': 4750, 'tf-idf': 0.005381039892285323, 'tf': 0.002638522427440633, 'idf': 2.0394141191761372}, {'index': 4735, 'tf-idf': 0.001442358127043007, 'tf': 0.002638522427440633, 'idf': 0.5466537301492996}, {'index': 8562, 'tf-idf': 0.003491849011982422, 'tf': 0.002638522427440633, 'idf': 1.323410775541338}, {'index': 9017, 'tf-idf': 0.003290296648226605, 'tf': 0.002638522427440633, 'idf': 1.2470224296778833}, {'index': 826, 'tf-idf': 0.0038818269000241213, 'tf': 0.002638522427440633, 'idf': 1.471212395109142}, {'index': 4973, 'tf-idf': 0.0035599420557984787, 'tf': 0.002638522427440633, 'idf': 1.3492180391476234}, {'index': 4600, 'tf-idf': 0.008019562319725955, 'tf': 0.002638522427440633, 'idf': 3.0394141191761372}, {'index': 10047, 'tf-idf': 0.005172118398755969, 'tf': 0.002638522427440633, 'idf': 1.9602328731285124}, {'index': 10041, 'tf-idf': 0.004586765497393551, 'tf': 0.002638522427440633, 'idf': 1.738384123512156}, {'index': 8914, 'tf-idf': 0.00596639279364774, 'tf': 0.002638522427440633, 'idf': 2.2612628687924934}, {'index': 7890, 'tf-idf': 0.005172118398755969, 'tf': 0.002638522427440633, 'idf': 1.9602328731285124}, {'index': 3168, 'tf-idf': 0.003764195943156732, 'tf': 0.002638522427440633, 'idf': 1.4266302624564016}, {'index': 5745, 'tf-idf': 0.008019562319725955, 'tf': 0.002638522427440633, 'idf': 3.0394141191761372}, {'index': 9936, 'tf-idf': 0.0007953213531469826, 'tf': 0.002638522427440633, 'idf': 0.3014267928427064}, {'index': 13761, 'tf-idf': 0.0030126306804371915, 'tf': 0.002638522427440633, 'idf': 1.1417870278856956}, {'index': 10149, 'tf-idf': 0.0031349756476439622, 'tf': 0.002638522427440633, 'idf': 1.1881557704570618}, {'index': 3398, 'tf-idf': 0.0011800458094466235, 'tf': 0.002638522427440633, 'idf': 0.4472373617802703}, {'index': 1886, 'tf-idf': 0.002582364851774473, 'tf': 0.002638522427440633, 'idf': 0.9787162788225254}, {'index': 12612, 'tf-idf': 0.003201422998615596, 'tf': 0.002638522427440633, 'idf': 1.2133393164753108}, {'index': 10924, 'tf-idf': 0.0056367391350506425, 'tf': 0.002638522427440633, 'idf': 2.1363241321841935}, {'index': 7455, 'tf-idf': 0.0018978043088788473, 'tf': 0.002638522427440633, 'idf': 0.7192678330650831}, {'index': 3524, 'tf-idf': 0.0037096191651624024, 'tf': 0.002638522427440633, 'idf': 1.4059456635965506}, {'index': 10106, 'tf-idf': 0.004242876926166622, 'tf': 0.002638522427440633, 'idf': 1.6080503550171499}, {'index': 11955, 'tf-idf': 0.002533595971315336, 'tf': 0.002638522427440633, 'idf': 0.9602328731285124}, {'index': 4931, 'tf-idf': 0.001876080516457518, 'tf': 0.002638522427440633, 'idf': 0.7110345157373994}, {'index': 11042, 'tf-idf': 0.0017110264170785172, 'tf': 0.002638522427440633, 'idf': 0.648479012072758}, {'index': 7178, 'tf-idf': 0.001068434957824289, 'tf': 0.002638522427440633, 'idf': 0.4049368490154055}, {'index': 11667, 'tf-idf': 0.004048190345267101, 'tf': 0.002638522427440633, 'idf': 1.5342641408562312}, {'index': 12342, 'tf-idf': 0.003271961925389328, 'tf': 0.002638522427440633, 'idf': 1.2400735697225553}, {'index': 7292, 'tf-idf': 0.0034275763316144944, 'tf': 0.002638522427440633, 'idf': 1.2990514296818934}, {'index': 8972, 'tf-idf': 0.0072252879248341844, 'tf': 0.002638522427440633, 'idf': 2.738384123512156}, {'index': 10044, 'tf-idf': 0.003632338489431565, 'tf': 0.002638522427440633, 'idf': 1.3766562874945631}, {'index': 936, 'tf-idf': 0.004707497662461296, 'tf': 0.002638522427440633, 'idf': 1.784141614072831}, {'index': 14119, 'tf-idf': 0.0026757473717978018, 'tf': 0.002638522427440633, 'idf': 1.0141082539113668}, {'index': 5290, 'tf-idf': 0.005789752187762217, 'tf': 0.002638522427440633, 'idf': 2.1943160791618803}, {'index': 4449, 'tf-idf': 0.0020375788674752596, 'tf': 0.002638522427440633, 'idf': 0.7722423907731234}, {'index': 5104, 'tf-idf': 0.001063129875521825, 'tf': 0.002638522427440633, 'idf': 0.4029262228227717}, {'index': 3548, 'tf-idf': 0.006431013529942413, 'tf': 0.002638522427440633, 'idf': 2.4373541278481747}, {'index': 9787, 'tf-idf': 0.002813420225795352, 'tf': 0.002638522427440633, 'idf': 1.0662862655764385}, {'index': 10264, 'tf-idf': 0.0031189488726777537, 'tf': 0.002638522427440633, 'idf': 1.1820816227448687}, {'index': 12127, 'tf-idf': 0.0025240864086007574, 'tf': 0.002638522427440633, 'idf': 0.9566287488596871}, {'index': 10971, 'tf-idf': 0.0018600537414913093, 'tf': 0.002638522427440633, 'idf': 0.7049603680252062}, {'index': 2308, 'tf-idf': 0.003271961925389328, 'tf': 0.002638522427440633, 'idf': 1.2400735697225553}, {'index': 10032, 'tf-idf': 0.003514100113662799, 'tf': 0.002638522427440633, 'idf': 1.3318439430782008}, {'index': 5404, 'tf-idf': 0.004201203397978675, 'tf': 0.002638522427440633, 'idf': 1.5922560878339178}, {'index': 8333, 'tf-idf': 0.008019562319725955, 'tf': 0.002638522427440633, 'idf': 3.0394141191761372}, {'index': 12671, 'tf-idf': 0.0026543281363830802, 'tf': 0.002638522427440633, 'idf': 1.0059903636891874}, {'index': 7596, 'tf-idf': 0.004201203397978675, 'tf': 0.002638522427440633, 'idf': 1.5922560878339178}, {'index': 3372, 'tf-idf': 0.006175314287177093, 'tf': 0.002638522427440633, 'idf': 2.3404441148401185}, {'index': 883, 'tf-idf': 0.006431013529942413, 'tf': 0.002638522427440633, 'idf': 2.4373541278481747}, {'index': 11199, 'tf-idf': 0.004916419155990648, 'tf': 0.002638522427440633, 'idf': 1.863322860120456}, {'index': 6712, 'tf-idf': 0.0030721711234417866, 'tf': 0.002638522427440633, 'idf': 1.1643528557844371}, {'index': 11406, 'tf-idf': 0.003556338439499934, 'tf': 0.005277044854881266, 'idf': 0.6739261342852375}, {'index': 5378, 'tf-idf': 0.002602468801300046, 'tf': 0.002638522427440633, 'idf': 0.9863356756927174}, {'index': 12667, 'tf-idf': 0.0031189488726777537, 'tf': 0.002638522427440633, 'idf': 1.1820816227448687}, {'index': 11400, 'tf-idf': 0.0019311822724615414, 'tf': 0.002638522427440633, 'idf': 0.7319180812629242}, {'index': 2521, 'tf-idf': 0.006175314287177093, 'tf': 0.002638522427440633, 'idf': 2.3404441148401185}, {'index': 7218, 'tf-idf': 0.001706377746481455, 'tf': 0.002638522427440633, 'idf': 0.6467171659164714}, {'index': 11976, 'tf-idf': 0.005501772057353067, 'tf': 0.002638522427440633, 'idf': 2.0851716097368125}, {'index': 3991, 'tf-idf': 0.0029423082667922305, 'tf': 0.002638522427440633, 'idf': 1.1151348331142554}, {'index': 8286, 'tf-idf': 0.003945504155213355, 'tf': 0.002638522427440633, 'idf': 1.4953460748258616}, {'index': 7601, 'tf-idf': 0.008019562319725955, 'tf': 0.002638522427440633, 'idf': 3.0394141191761372}, {'index': 13933, 'tf-idf': 0.004707497662461296, 'tf': 0.002638522427440633, 'idf': 1.784141614072831}, {'index': 11679, 'tf-idf': 0.005996433415220018, 'tf': 0.005277044854881266, 'idf': 1.1363241321841935}, {'index': 3982, 'tf-idf': 0.008019562319725955, 'tf': 0.002638522427440633, 'idf': 3.0394141191761372}, {'index': 12457, 'tf-idf': 0.004286123406874193, 'tf': 0.002638522427440633, 'idf': 1.6244407712053193}, {'index': 8347, 'tf-idf': 0.004048190345267101, 'tf': 0.002638522427440633, 'idf': 1.5342641408562312}, {'index': 11649, 'tf-idf': 0.003632338489431565, 'tf': 0.002638522427440633, 'idf': 1.3766562874945631}, {'index': 3140, 'tf-idf': 0.002602468801300046, 'tf': 0.002638522427440633, 'idf': 0.9863356756927174}, {'index': 12969, 'tf-idf': 0.004530857056575773, 'tf': 0.002638522427440633, 'idf': 1.717194824442218}, {'index': 3480, 'tf-idf': 0.0072252879248341844, 'tf': 0.002638522427440633, 'idf': 2.738384123512156}, {'index': 5264, 'tf-idf': 0.0012588951311864444, 'tf': 0.002638522427440633, 'idf': 0.47712125471966244}, {'index': 5295, 'tf-idf': 0.0028012942318925843, 'tf': 0.002638522427440633, 'idf': 1.0616905138872894}, {'index': 9934, 'tf-idf': 0.005080397801765964, 'tf': 0.002638522427440633, 'idf': 1.9254707668693003}, {'index': 8378, 'tf-idf': 0.00596639279364774, 'tf': 0.002638522427440633, 'idf': 2.2612628687924934}, {'index': 8655, 'tf-idf': 0.00274187928971197, 'tf': 0.005277044854881266, 'idf': 0.5195861254004184}, {'index': 9531, 'tf-idf': 0.013521334377079022, 'tf': 0.005277044854881266, 'idf': 2.5622928644564746}, {'index': 14151, 'tf-idf': 0.0034407614397752384, 'tf': 0.005277044854881266, 'idf': 0.6520242928374077}, {'index': 10531, 'tf-idf': 0.005172118398755969, 'tf': 0.002638522427440633, 'idf': 1.9602328731285124}, {'index': 11886, 'tf-idf': 0.0026126546081951334, 'tf': 0.002638522427440633, 'idf': 0.9901960965059555}, {'index': 11937, 'tf-idf': 0.006175314287177093, 'tf': 0.002638522427440633, 'idf': 2.3404441148401185}, {'index': 10051, 'tf-idf': 0.004645542264441446, 'tf': 0.002638522427440633, 'idf': 1.7606605182233082}, {'index': 4790, 'tf-idf': 0.006175314287177093, 'tf': 0.002638522427440633, 'idf': 2.3404441148401185}, {'index': 12928, 'tf-idf': 0.00142408189065365, 'tf': 0.002638522427440633, 'idf': 0.5397270365577334}, {'index': 3317, 'tf-idf': 0.00213447281740861, 'tf': 0.002638522427440633, 'idf': 0.8089651977978632}, {'index': 4752, 'tf-idf': 0.0030420142321996176, 'tf': 0.002638522427440633, 'idf': 1.1529233940036552}, {'index': 4285, 'tf-idf': 0.004377844003864198, 'tf': 0.002638522427440633, 'idf': 1.659202877464531}, {'index': 7376, 'tf-idf': 0.002602468801300046, 'tf': 0.002638522427440633, 'idf': 0.9863356756927174}, {'index': 12791, 'tf-idf': 0.002154875060761356, 'tf': 0.002638522427440633, 'idf': 0.8166976480285539}, {'index': 9435, 'tf-idf': 0.0023569553654298127, 'tf': 0.002638522427440633, 'idf': 0.8932860834978991}, {'index': 10432, 'tf-idf': 0.0024418753743253307, 'tf': 0.002638522427440633, 'idf': 0.9254707668693004}, {'index': 6396, 'tf-idf': 0.0072252879248341844, 'tf': 0.002638522427440633, 'idf': 2.738384123512156}, {'index': 10344, 'tf-idf': 0.003271961925389328, 'tf': 0.002638522427440633, 'idf': 1.2400735697225553}, {'index': 1424, 'tf-idf': 0.0072252879248341844, 'tf': 0.002638522427440633, 'idf': 2.738384123512156}, {'index': 10126, 'tf-idf': 0.0035835696089724267, 'tf': 0.002638522427440633, 'idf': 1.3581728818005498}, {'index': 13726, 'tf-idf': 0.004084571043118376, 'tf': 0.002638522427440633, 'idf': 1.5480524253418644}, {'index': 7419, 'tf-idf': 0.002552855176438026, 'tf': 0.002638522427440633, 'idf': 0.9675321118700118}, {'index': 11963, 'tf-idf': 0.005080397801765964, 'tf': 0.002638522427440633, 'idf': 1.9254707668693003}, {'index': 12197, 'tf-idf': 0.0012433044725834886, 'tf': 0.002638522427440633, 'idf': 0.4712123951091422}, {'index': 10147, 'tf-idf': 0.0020375788674752596, 'tf': 0.002638522427440633, 'idf': 0.7722423907731234}, {'index': 5082, 'tf-idf': 0.003386647133255002, 'tf': 0.002638522427440633, 'idf': 1.2835392635036458}, {'index': 12997, 'tf-idf': 0.0038818269000241213, 'tf': 0.002638522427440633, 'idf': 1.471212395109142}, {'index': 4181, 'tf-idf': 0.0036832755743798147, 'tf': 0.002638522427440633, 'idf': 1.3959614426899498}]\n"
     ]
    }
   ],
   "source": [
    "# 以隨機文件做測試\n",
    "print(tfidf_vectors[597])"
   ]
  },
  {
   "cell_type": "code",
   "execution_count": 12,
   "id": "b1e78ce7",
   "metadata": {},
   "outputs": [],
   "source": [
    "output_folder = \"output\"\n",
    "os.makedirs(output_folder, exist_ok=True)\n",
    "\n",
    "# 將每個文件的 tf-idf 儲存\n",
    "for document_index, words in enumerate(processed_texts, start=1):\n",
    "    # 文件名為 Docid.txt\n",
    "    document_filename = f\"{document_index}.txt\"\n",
    "    \n",
    "    with open(os.path.join(output_folder, document_filename), \"w\", encoding=\"utf-8\") as file:\n",
    "        # Header\n",
    "        file.write(\"t_index   tf-idf\\n\")\n",
    "    \n",
    "        for tfidf_info in tfidf_vectors[document_index - 1]:\n",
    "            line = \"{:<8}  {}\\n\".format(tfidf_info['index'], tfidf_info['tf-idf'])\n",
    "            file.write(line)"
   ]
  },
  {
   "cell_type": "markdown",
   "id": "8be56bd1",
   "metadata": {},
   "source": [
    "### Write a function cosine(Docx, Docy) which loads the tf-idf vectors of documents x and y and returns their cosine similarity."
   ]
  },
  {
   "cell_type": "code",
   "execution_count": 13,
   "id": "6b3192bf",
   "metadata": {},
   "outputs": [],
   "source": [
    "def cosine(vector_x, vector_y):\n",
    "    # 計算向量內積\n",
    "    dot_product = sum(x['tf-idf'] * y['tf-idf'] for x, y in zip(vector_x, vector_y))\n",
    "    \n",
    "    # 計算向量大小\n",
    "    magnitude_x = math.sqrt(sum(x['tf-idf']**2 for x in vector_x))\n",
    "    magnitude_y = math.sqrt(sum(y['tf-idf']**2 for y in vector_y))\n",
    "    \n",
    "    # Cosine similarity\n",
    "    similarity = dot_product / (magnitude_x * magnitude_y)\n",
    "    \n",
    "    return similarity\n",
    "\n",
    "def unit_vector(vector):\n",
    "    # 計算向量大小\n",
    "    magnitude = math.sqrt(sum(x['tf-idf']**2 for x in vector))\n",
    "    \n",
    "    # 計算單位向量\n",
    "    unit_vector = [{'tf-idf': x['tf-idf'] / magnitude} for x in vector]\n",
    "    \n",
    "    return unit_vector"
   ]
  },
  {
   "cell_type": "code",
   "execution_count": 18,
   "id": "6a72d5fe",
   "metadata": {},
   "outputs": [
    {
     "name": "stdout",
     "output_type": "stream",
     "text": [
      "文件 x 和文件 y 的cosine similarity: 0.248133157335619\n"
     ]
    }
   ],
   "source": [
    "# 計算兩文件各自的單位向量\n",
    "unit_vector_x = unit_vector(tfidf_vectors[154])\n",
    "unit_vector_y = unit_vector(tfidf_vectors[58])\n",
    "\n",
    "# 計算cosine similarity\n",
    "similarity = cosine(unit_vector_x, unit_vector_y)\n",
    "\n",
    "print(f\"文件 x 和文件 y 的cosine similarity: {similarity}\")"
   ]
  }
 ],
 "metadata": {
  "kernelspec": {
   "display_name": "Python 3 (ipykernel)",
   "language": "python",
   "name": "python3"
  },
  "language_info": {
   "codemirror_mode": {
    "name": "ipython",
    "version": 3
   },
   "file_extension": ".py",
   "mimetype": "text/x-python",
   "name": "python",
   "nbconvert_exporter": "python",
   "pygments_lexer": "ipython3",
   "version": "3.11.4"
  }
 },
 "nbformat": 4,
 "nbformat_minor": 5
}
