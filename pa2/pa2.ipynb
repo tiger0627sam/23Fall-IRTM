{
 "cells": [
  {
   "cell_type": "markdown",
   "id": "1218c11b",
   "metadata": {},
   "source": [
    "## 資料檢索與文字探勘 R12725049-pa2"
   ]
  },
  {
   "cell_type": "code",
   "execution_count": 1,
   "id": "5be5c2d3",
   "metadata": {},
   "outputs": [
    {
     "name": "stdout",
     "output_type": "stream",
     "text": [
      "3.11.4\n"
     ]
    }
   ],
   "source": [
    "from platform import python_version\n",
    "\n",
    "print(python_version())"
   ]
  },
  {
   "cell_type": "markdown",
   "id": "af5f2601",
   "metadata": {},
   "source": [
    "### Construct a dictionary based on the terms extracted from the given documents.\n"
   ]
  },
  {
   "cell_type": "code",
   "execution_count": 2,
   "id": "bc88ac5b",
   "metadata": {},
   "outputs": [],
   "source": [
    "import os\n",
    "import re\n",
    "import math\n",
    "\n",
    "# 資料夾路徑\n",
    "folder_path = r'./data'\n",
    "\n",
    "# 存儲文檔內容的列表\n",
    "document_contents = []\n",
    "\n",
    "# 列出資料夾中的所有文件\n",
    "filenames = os.listdir(folder_path)\n",
    "\n",
    "# 按照數字的順序排序文件名\n",
    "def custom_sort(filename):\n",
    "\n",
    "    match = re.match(r'(\\d+)', filename)\n",
    "    if match:\n",
    "        return int(match.group())\n",
    "    return filename\n",
    "\n",
    "# 排序\n",
    "sorted_filenames = sorted(filenames, key=custom_sort)\n",
    "\n",
    "for filename in sorted_filenames:\n",
    "    # 文件路徑\n",
    "    file_path = os.path.join(folder_path, filename)\n",
    "    \n",
    "    if os.path.isfile(file_path):\n",
    "        with open(file_path, \"r\", encoding=\"utf-8\") as file:\n",
    "            document_contents.append(file.read())"
   ]
  },
  {
   "cell_type": "code",
   "execution_count": 3,
   "id": "b96a3fde",
   "metadata": {},
   "outputs": [
    {
     "name": "stdout",
     "output_type": "stream",
     "text": [
      "the white house is also keeping a close watch on yugoslavia, where \n",
      "opposition forces are about to step up the pressure on president slobodan \n",
      "milosevic. but will it work? nbc's jim maceda is in belgrade tonight. \n",
      "serbia on the eve of a general strike. this two-hour roadblock is \n",
      "just a taste of what will come tomorrow, says the opposition, when \n",
      "a nationwide work stoppage is to begin. the purpose, to force out \n",
      "the man they say stole the presidential election, slobodan milosevic. \n",
      "the people don't accept to be victim and to be hostage of one person, \n",
      "milosevic. time is working against him now. but will the pressure \n",
      "work? four years ago, hundreds of thousands of serbs marched against \n",
      "milosevic calling for a general strike as well. the protest lasted \n",
      "three months, but milosevic survived. that's the real question. does \n",
      "the opposition have the power to confront the regime with its combined \n",
      "wealth to get rid of it? a case in point. these coal mine, the very \n",
      "heart of serbia's economy, now on strike, only a handful of workers \n",
      "guarding equipment. but with a week of electricity reserves, these \n",
      "engineers are worried about blackouts. \"we're just making a gesture \n",
      "to try to make this regime come to its senses.\" there are difficulties, \n",
      "too, spreading the word about the strike. independent radio station \n",
      "b-292 has been shut down three times. its signal jammed in belgrade \n",
      "leaving journalists frustrated. i'm waiting for a better time when \n",
      "people in belgrade can hear and listening my radio. poorly organized \n",
      "opposition rallies have been shrinking, now drawing barely 10,000 \n",
      "in belgrade. but opposition leaders hope all that will change tomorrow \n",
      "and civil disobedience throughout the land may give new life to their \n",
      "struggle to oust milosevic. jim maceda, nbc news, belgrade.\n"
     ]
    }
   ],
   "source": [
    "print(document_contents[0])"
   ]
  },
  {
   "cell_type": "code",
   "execution_count": 4,
   "id": "c84bcd0b",
   "metadata": {},
   "outputs": [],
   "source": [
    "def tokenize_text(text):\n",
    "    # empty List 用以儲存Tokens\n",
    "    tokens = []\n",
    "    \n",
    "    # empty String 用以儲存單字\n",
    "    current_token = \"\"\n",
    "    \n",
    "    separators = [' ', '.', ',', '!', '?', ';', ':', '_', '\\\"', '(', ')', '\\'', '`','@','$','%','&','*','{','/','-','#']\n",
    "    \n",
    "    # 追蹤每個字母\n",
    "    for char in text:\n",
    "        # 如果字母是空格或標點符號，並且current string is not empty，則將其添加到tokens List\n",
    "        if char.isspace() or char.isdigit()  or char in separators:\n",
    "            if current_token:\n",
    "                # 添加到 tokens 列表之前检查长度\n",
    "                if len(current_token) > 2:\n",
    "                    tokens.append(current_token)\n",
    "                current_token = \"\"\n",
    "        else:\n",
    "            # 如果字母不是空格或標點符號，則將其添加到current token\n",
    "            current_token += char\n",
    "    \n",
    "    # 將最後一個word添加到tokens列表中\n",
    "    if current_token and len(current_token) > 2 :\n",
    "        tokens.append(current_token)\n",
    "    \n",
    "    return tokens"
   ]
  },
  {
   "cell_type": "code",
   "execution_count": 5,
   "id": "18c94371",
   "metadata": {},
   "outputs": [
    {
     "name": "stdout",
     "output_type": "stream",
     "text": [
      "['i', 'me', 'my', 'myself', 'we', 'our', 'ours', 'ourselves', 'you', 'your', 'yours', 'yourself', 'yourselves', 'he', 'him', 'his', 'himself', 'she', 'her', 'hers', 'herself', 'it', 'its', 'itself', 'they', 'them', 'their', 'theirs', 'themselves', 'what', 'which', 'who', 'whom', 'this', 'that', 'these', 'those', 'am', 'is', 'are', 'was', 'were', 'be', 'been', 'being', 'have', 'has', 'had', 'having', 'do', 'does', 'did', 'doing', 'a', 'an', 'the', 'and', 'but', 'if', 'or', 'because', 'as', 'until', 'while', 'of', 'at', 'by', 'for', 'with', 'about', 'against', 'between', 'into', 'through', 'during', 'before', 'after', 'above', 'below', 'to', 'from', 'up', 'down', 'in', 'out', 'on', 'off', 'over', 'under', 'again', 'further', 'then', 'once', 'here', 'there', 'when', 'where', 'why', 'how', 'all', 'any', 'both', 'each', 'few', 'more', 'most', 'other', 'some', 'such', 'no', 'nor', 'not', 'only', 'own', 'same', 'so', 'than', 'too', 'very', 's', 't', 'can', 'will', 'just', 'don', 'should', 'now']\n"
     ]
    }
   ],
   "source": [
    "# 讀取stopwords\n",
    "stopwords_file = open(\"NLTK's list of english stopwords.txt\", \"r\")\n",
    "stopwords = stopwords_file.read()\n",
    "stopwords_list = stopwords.splitlines()\n",
    "print(stopwords_list)"
   ]
  },
  {
   "cell_type": "code",
   "execution_count": 6,
   "id": "cafb92db",
   "metadata": {},
   "outputs": [],
   "source": [
    "# import package\n",
    "from nltk.stem.porter import PorterStemmer\n",
    "import nltk\n",
    "\n",
    "# stemmer\n",
    "ps=PorterStemmer()"
   ]
  },
  {
   "cell_type": "code",
   "execution_count": 7,
   "id": "6656d19b",
   "metadata": {
    "scrolled": true
   },
   "outputs": [
    {
     "name": "stdout",
     "output_type": "stream",
     "text": [
      "['white', 'hous', 'also', 'keep', 'close', 'watch', 'yugoslavia', 'opposit', 'forc', 'step', 'pressur', 'presid', 'slobodan', 'milosev', 'work', 'nbc', 'jim', 'maceda', 'belgrad', 'tonight', 'serbia', 'eve', 'gener', 'strike', 'two', 'hour', 'roadblock', 'tast', 'come', 'tomorrow', 'say', 'opposit', 'nationwid', 'work', 'stoppag', 'begin', 'purpos', 'forc', 'man', 'say', 'stole', 'presidenti', 'elect', 'slobodan', 'milosev', 'peopl', 'accept', 'victim', 'hostag', 'one', 'person', 'milosev', 'time', 'work', 'pressur', 'work', 'four', 'year', 'ago', 'hundr', 'thousand', 'serb', 'march', 'milosev', 'call', 'gener', 'strike', 'well', 'protest', 'last', 'three', 'month', 'milosev', 'surviv', 'real', 'question', 'opposit', 'power', 'confront', 'regim', 'combin', 'wealth', 'get', 'rid', 'case', 'point', 'coal', 'mine', 'heart', 'serbia', 'economi', 'strike', 'hand', 'worker', 'guard', 'equip', 'week', 'electr', 'reserv', 'engin', 'worri', 'blackout', 'make', 'gestur', 'tri', 'make', 'regim', 'come', 'sens', 'difficulti', 'spread', 'word', 'strike', 'independ', 'radio', 'station', 'shut', 'three', 'time', 'signal', 'jam', 'belgrad', 'leav', 'journalist', 'frustrat', 'wait', 'better', 'time', 'peopl', 'belgrad', 'hear', 'listen', 'radio', 'poorli', 'organ', 'opposit', 'ralli', 'shrink', 'draw', 'bare', 'belgrad', 'opposit', 'leader', 'hope', 'chang', 'tomorrow', 'civil', 'disobedi', 'throughout', 'land', 'may', 'give', 'new', 'life', 'struggl', 'oust', 'milosev', 'jim', 'maceda', 'nbc', 'news', 'belgrad']\n"
     ]
    }
   ],
   "source": [
    "# Empty List for storing processed document\n",
    "processed_texts = []\n",
    "\n",
    "for document_content in document_contents:\n",
    "    result = []\n",
    "    # lower casting\n",
    "    document_content = document_content.lower()\n",
    "    # Tokenized\n",
    "    tokenized_content = tokenize_text(document_content)\n",
    "    # Stopwords removal\n",
    "    filtered_tokens = [token for token in tokenized_content if token not in stopwords_list]\n",
    "    # Stemming\n",
    "    for t in filtered_tokens:  \n",
    "        result.append(ps.stem(t))\n",
    "    # 存入List\n",
    "    processed_texts.append(result)\n",
    "\n",
    "# 以文件一做測試\n",
    "print(processed_texts[0])"
   ]
  },
  {
   "cell_type": "code",
   "execution_count": 8,
   "id": "3e9ccead",
   "metadata": {},
   "outputs": [],
   "source": [
    "# Empty list 用以儲存每個單字的index,term,frequency\n",
    "term_info_list = []\n",
    "\n",
    "# Empty dict for storing term_document_frequency\n",
    "term_document_frequency = {}\n",
    "\n",
    "# Loop start\n",
    "for words in processed_texts:\n",
    "    # 避免重複計算\n",
    "    unique_words = set(words)\n",
    "    \n",
    "    # 更新Frequency\n",
    "    for word in unique_words:\n",
    "        if word in term_document_frequency:\n",
    "            term_document_frequency[word] += 1\n",
    "        else:\n",
    "            term_document_frequency[word] = 1\n",
    "\n",
    "# 按照字母順序排列字典\n",
    "sorted_terms = sorted(term_document_frequency.items(), key=lambda x: x[0])\n",
    "\n",
    "# 紀錄 index並存入 term_info_list 中\n",
    "for index, (term, frequency) in enumerate(sorted_terms, start=1):\n",
    "    term_info = {'index': index, 'term': term, 'frequency': frequency}\n",
    "    term_info_list.append(term_info)"
   ]
  },
  {
   "cell_type": "code",
   "execution_count": 9,
   "id": "192fa842",
   "metadata": {},
   "outputs": [
    {
     "name": "stdout",
     "output_type": "stream",
     "text": [
      "字典已保存到 dictionary.txt\n"
     ]
    }
   ],
   "source": [
    "# 儲存字典為txt\n",
    "output_file = \"dictionary.txt\"\n",
    "\n",
    "with open(output_file, \"w\", encoding=\"utf-8\") as file:\n",
    "    # Header\n",
    "    file.write(\"t_index   term                     df\\n\")\n",
    "    \n",
    "    for term_info in term_info_list:\n",
    "        line = \"{:<8}  {:<25}  {}\\n\".format(term_info['index'], term_info['term'], term_info['frequency'])\n",
    "        file.write(line)\n",
    "\n",
    "print(f\"字典已保存到 {output_file}\")"
   ]
  },
  {
   "cell_type": "markdown",
   "id": "264b0d59",
   "metadata": {},
   "source": [
    "### Transfer each document into a tf-idf unit vector."
   ]
  },
  {
   "cell_type": "code",
   "execution_count": 10,
   "id": "aff6db97",
   "metadata": {},
   "outputs": [],
   "source": [
    "# Empty List for storing each document\n",
    "document_term_frequencies = []\n",
    "\n",
    "# Loop start\n",
    "for words in processed_texts:\n",
    "    # Empty dict for storing document_term_frequency\n",
    "    document_term_frequency = {}\n",
    "    \n",
    "    # 更新frequency\n",
    "    for word in words:\n",
    "        if word in document_term_frequency:\n",
    "            document_term_frequency[word] += 1\n",
    "        else:\n",
    "            document_term_frequency[word] = 1\n",
    "    \n",
    "    # 存入個文件的 List\n",
    "    document_term_frequencies.append(document_term_frequency)\n",
    "\n",
    "# 計算文件總數\n",
    "total_documents = len(processed_texts)\n",
    "\n",
    "tfidf_vectors = []\n",
    "\n",
    "for document_term_frequency in document_term_frequencies:\n",
    "    tfidf_vector = []\n",
    "            \n",
    "    for word, term_frequency in document_term_frequency.items():\n",
    "        # 計算 TF\n",
    "        tf = term_frequency / sum(document_term_frequency.values())\n",
    "        \n",
    "        # 計算 IDF\n",
    "        idf = math.log10(total_documents / term_document_frequency[word])\n",
    "        \n",
    "        # 計算 TF-IDF\n",
    "        tfidf = tf * idf\n",
    "        \n",
    "        # 獲取 term_index\n",
    "        term_index = next((item['index'] for item in term_info_list if item['term'] == word), None)\n",
    "        \n",
    "        # Add term_index and TF-IDF 值到向量\n",
    "        tfidf_info = {'index': term_index, 'tf-idf': tfidf, 'tf' : tf, 'idf' : idf}\n",
    "        tfidf_vector.append(tfidf_info)\n",
    "    \n",
    "    tfidf_vectors.append(tfidf_vector)"
   ]
  },
  {
   "cell_type": "code",
   "execution_count": 11,
   "id": "bd1e2d50",
   "metadata": {},
   "outputs": [
    {
     "name": "stdout",
     "output_type": "stream",
     "text": [
      "[{'index': 8259, 'tf-idf': 0.007269126952650746, 'tf': 0.02443609022556391, 'idf': 0.29747504144693826}, {'index': 273, 'tf-idf': 0.0022929890669817076, 'tf': 0.0018796992481203006, 'idf': 1.2198701836342685}, {'index': 4163, 'tf-idf': 0.04688054246909336, 'tf': 0.03759398496240601, 'idf': 1.2470224296778833}, {'index': 10692, 'tf-idf': 0.004124654284138872, 'tf': 0.0018796992481203006, 'idf': 2.1943160791618803}, {'index': 7929, 'tf-idf': 0.02109624411109201, 'tf': 0.016917293233082706, 'idf': 1.2470224296778833}, {'index': 6034, 'tf-idf': 0.0032676393299100673, 'tf': 0.0018796992481203006, 'idf': 1.738384123512156}, {'index': 4545, 'tf-idf': 0.00670729930102568, 'tf': 0.0037593984962406013, 'idf': 1.784141614072831}, {'index': 338, 'tf-idf': 0.0006783754513835023, 'tf': 0.0018796992481203006, 'idf': 0.36089574013602327}, {'index': 1413, 'tf-idf': 0.004816339970782847, 'tf': 0.0018796992481203006, 'idf': 2.5622928644564746}, {'index': 2357, 'tf-idf': 0.003191856414609041, 'tf': 0.007518796992481203, 'idf': 0.4245169031430025}, {'index': 2737, 'tf-idf': 0.002105894787218164, 'tf': 0.0018796992481203006, 'idf': 1.1203360268000633}, {'index': 3898, 'tf-idf': 0.003022651043265319, 'tf': 0.0018796992481203006, 'idf': 1.6080503550171499}, {'index': 5406, 'tf-idf': 0.002883955151985397, 'tf': 0.0018796992481203006, 'idf': 1.5342641408562312}, {'index': 3897, 'tf-idf': 0.003227809820380109, 'tf': 0.0018796992481203006, 'idf': 1.717194824442218}, {'index': 9196, 'tf-idf': 0.002800555988776482, 'tf': 0.0037593984962406013, 'idf': 0.7449478930145442}, {'index': 1508, 'tf-idf': 0.002650602685494875, 'tf': 0.005639097744360902, 'idf': 0.4700402095610912}, {'index': 8506, 'tf-idf': 0.0023309653566213444, 'tf': 0.0018796992481203006, 'idf': 1.2400735697225553}, {'index': 12171, 'tf-idf': 0.0015647722599000456, 'tf': 0.005639097744360902, 'idf': 0.2774862807556081}, {'index': 7425, 'tf-idf': 0.003596336357346475, 'tf': 0.007518796992481203, 'idf': 0.47831273552708115}, {'index': 11266, 'tf-idf': 0.0031188024012491185, 'tf': 0.0018796992481203006, 'idf': 1.659202877464531}, {'index': 2261, 'tf-idf': 0.007324649729239308, 'tf': 0.009398496240601503, 'idf': 0.7793427311910623}, {'index': 4520, 'tf-idf': 0.0023573012860251315, 'tf': 0.0018796992481203006, 'idf': 1.25408428416537}, {'index': 2320, 'tf-idf': 0.004313231264983671, 'tf': 0.0037593984962406013, 'idf': 1.1473195164856567}, {'index': 9379, 'tf-idf': 0.0068421390026803235, 'tf': 0.005639097744360902, 'idf': 1.2133393164753108}, {'index': 1892, 'tf-idf': 0.004816339970782847, 'tf': 0.0018796992481203006, 'idf': 2.5622928644564746}, {'index': 4113, 'tf-idf': 0.0027017934733988246, 'tf': 0.0018796992481203006, 'idf': 1.4373541278481747}, {'index': 11739, 'tf-idf': 0.0015960195883568526, 'tf': 0.0018796992481203006, 'idf': 0.8490824210058456}, {'index': 405, 'tf-idf': 0.0030854776513234952, 'tf': 0.0018796992481203006, 'idf': 1.6414741105040995}, {'index': 4909, 'tf-idf': 0.0030854776513234952, 'tf': 0.0018796992481203006, 'idf': 1.6414741105040995}, {'index': 5501, 'tf-idf': 0.004636218590948308, 'tf': 0.0037593984962406013, 'idf': 1.23323414519225}, {'index': 443, 'tf-idf': 0.00464983235598744, 'tf': 0.005639097744360902, 'idf': 0.8245702711284393}, {'index': 12133, 'tf-idf': 0.002623987674229229, 'tf': 0.0018796992481203006, 'idf': 1.3959614426899498}, {'index': 10246, 'tf-idf': 0.005765305149684342, 'tf': 0.005639097744360902, 'idf': 1.0223807798773568}, {'index': 3250, 'tf-idf': 0.0029388554297253857, 'tf': 0.0037593984962406013, 'idf': 0.7817355443069527}, {'index': 6880, 'tf-idf': 0.006799283587586648, 'tf': 0.009398496240601503, 'idf': 0.7234437737192194}, {'index': 12111, 'tf-idf': 0.0026057684202925343, 'tf': 0.007518796992481203, 'idf': 0.3465671998989071}, {'index': 8904, 'tf-idf': 0.020961181073576227, 'tf': 0.018796992481203006, 'idf': 1.1151348331142554}, {'index': 12044, 'tf-idf': 0.0019376202019064275, 'tf': 0.0018796992481203006, 'idf': 1.0308139474142195}, {'index': 4966, 'tf-idf': 0.002186211362564454, 'tf': 0.0037593984962406013, 'idf': 0.5815322224421449}, {'index': 1913, 'tf-idf': 0.001442805474886538, 'tf': 0.0018796992481203006, 'idf': 0.7675725126396382}, {'index': 8959, 'tf-idf': 0.0025125799131744393, 'tf': 0.0037593984962406013, 'idf': 0.6683462569044009}, {'index': 5502, 'tf-idf': 0.005575607588003195, 'tf': 0.0037593984962406013, 'idf': 1.48311161840885}, {'index': 7426, 'tf-idf': 0.0006464895539209392, 'tf': 0.0018796992481203006, 'idf': 0.34393244268593964}, {'index': 9264, 'tf-idf': 0.002989058867901245, 'tf': 0.016917293233082706, 'idf': 0.1766865908581625}, {'index': 8888, 'tf-idf': 0.002427116714605144, 'tf': 0.0018796992481203006, 'idf': 1.2912260921699368}, {'index': 8106, 'tf-idf': 0.0025548069053994327, 'tf': 0.0037593984962406013, 'idf': 0.6795786368362491}, {'index': 647, 'tf-idf': 0.00592863203487662, 'tf': 0.0037593984962406013, 'idf': 1.5770161212771812}, {'index': 2658, 'tf-idf': 0.0015016256971683033, 'tf': 0.0018796992481203006, 'idf': 0.7988648708935374}, {'index': 11024, 'tf-idf': 0.002650226947463181, 'tf': 0.0037593984962406013, 'idf': 0.7049603680252062}, {'index': 78, 'tf-idf': 0.0035432485194288746, 'tf': 0.0037593984962406013, 'idf': 0.9425041061680807}, {'index': 3696, 'tf-idf': 0.0018759801391314136, 'tf': 0.0018796992481203006, 'idf': 0.9980214340179121}, {'index': 7497, 'tf-idf': 0.00863070981104275, 'tf': 0.011278195488721804, 'idf': 0.7652562699124573}, {'index': 5991, 'tf-idf': 0.008044907495054895, 'tf': 0.005639097744360902, 'idf': 1.4266302624564016}, {'index': 12064, 'tf-idf': 0.0030126617144636907, 'tf': 0.0037593984962406013, 'idf': 0.8013680160473418}, {'index': 2177, 'tf-idf': 0.007445083432375605, 'tf': 0.007518796992481203, 'idf': 0.9901960965059555}, {'index': 5963, 'tf-idf': 0.0018857490216699314, 'tf': 0.005639097744360902, 'idf': 0.3344061598428012}, {'index': 11912, 'tf-idf': 0.0025919014430037237, 'tf': 0.005639097744360902, 'idf': 0.459630522559327}, {'index': 3330, 'tf-idf': 0.0031188024012491185, 'tf': 0.0018796992481203006, 'idf': 1.659202877464531}, {'index': 6953, 'tf-idf': 0.0037556793872517143, 'tf': 0.0018796992481203006, 'idf': 1.998021434017912}, {'index': 9474, 'tf-idf': 0.002167149236848976, 'tf': 0.0018796992481203006, 'idf': 1.1529233940036552}, {'index': 6043, 'tf-idf': 0.006619024504598903, 'tf': 0.0037593984962406013, 'idf': 1.7606605182233082}, {'index': 8837, 'tf-idf': 0.0021359476168875814, 'tf': 0.0018796992481203006, 'idf': 1.1363241321841935}, {'index': 2226, 'tf-idf': 0.009569782143855255, 'tf': 0.009398496240601503, 'idf': 1.0182248201061992}, {'index': 4513, 'tf-idf': 0.003843536766456228, 'tf': 0.0037593984962406013, 'idf': 1.0223807798773568}, {'index': 6918, 'tf-idf': 0.0027436663957882083, 'tf': 0.0018796992481203006, 'idf': 1.459630522559327}, {'index': 5173, 'tf-idf': 0.003502486579173789, 'tf': 0.0018796992481203006, 'idf': 1.863322860120456}, {'index': 5272, 'tf-idf': 0.0020130285162071465, 'tf': 0.0018796992481203006, 'idf': 1.070931170622202}, {'index': 8136, 'tf-idf': 0.004008594983370069, 'tf': 0.0037593984962406013, 'idf': 1.0662862655764385}, {'index': 2682, 'tf-idf': 0.001661800905471946, 'tf': 0.0018796992481203006, 'idf': 0.8840780817110754}, {'index': 8187, 'tf-idf': 0.0019582713507452997, 'tf': 0.0037593984962406013, 'idf': 0.5209001792982497}, {'index': 6491, 'tf-idf': 0.0037556793872517143, 'tf': 0.0018796992481203006, 'idf': 1.998021434017912}, {'index': 9699, 'tf-idf': 0.0038334851864213104, 'tf': 0.0018796992481203006, 'idf': 2.0394141191761372}, {'index': 7808, 'tf-idf': 0.003400310522176434, 'tf': 0.0018796992481203006, 'idf': 1.8089651977978631}, {'index': 11210, 'tf-idf': 0.00916298544303825, 'tf': 0.0037593984962406013, 'idf': 2.4373541278481747}, {'index': 351, 'tf-idf': 0.00916298544303825, 'tf': 0.0037593984962406013, 'idf': 2.4373541278481747}, {'index': 8982, 'tf-idf': 0.0037556793872517143, 'tf': 0.0018796992481203006, 'idf': 1.998021434017912}, {'index': 6974, 'tf-idf': 0.002765436832911921, 'tf': 0.0018796992481203006, 'idf': 1.471212395109142}, {'index': 6989, 'tf-idf': 0.0011992736435988592, 'tf': 0.0018796992481203006, 'idf': 0.638013578394593}, {'index': 2360, 'tf-idf': 0.003502486579173789, 'tf': 0.0018796992481203006, 'idf': 1.863322860120456}, {'index': 9639, 'tf-idf': 0.004399331042932554, 'tf': 0.0018796992481203006, 'idf': 2.3404441148401185}, {'index': 3419, 'tf-idf': 0.0022441140981642425, 'tf': 0.0037593984962406013, 'idf': 0.5969343501116886}, {'index': 445, 'tf-idf': 0.00335364965051284, 'tf': 0.0018796992481203006, 'idf': 1.784141614072831}, {'index': 5253, 'tf-idf': 0.0033095122522994514, 'tf': 0.0018796992481203006, 'idf': 1.7606605182233082}, {'index': 11027, 'tf-idf': 0.002912016151002258, 'tf': 0.0037593984962406013, 'idf': 0.7745962961666006}, {'index': 7892, 'tf-idf': 0.0019786510994546846, 'tf': 0.0018796992481203006, 'idf': 1.0526423849098923}, {'index': 9794, 'tf-idf': 0.004124654284138872, 'tf': 0.0018796992481203006, 'idf': 2.1943160791618803}, {'index': 6871, 'tf-idf': 0.0018759801391314136, 'tf': 0.0018796992481203006, 'idf': 0.9980214340179121}, {'index': 707, 'tf-idf': 0.006045302086530638, 'tf': 0.0037593984962406013, 'idf': 1.6080503550171499}, {'index': 4641, 'tf-idf': 0.0015449815318838926, 'tf': 0.0018796992481203006, 'idf': 0.8219301749622309}, {'index': 6012, 'tf-idf': 0.0028344646656651915, 'tf': 0.0018796992481203006, 'idf': 1.5079352021338819}, {'index': 10446, 'tf-idf': 0.0028588349234929503, 'tf': 0.0018796992481203006, 'idf': 1.5209001792982497}, {'index': 1520, 'tf-idf': 0.0012528235267030648, 'tf': 0.0018796992481203006, 'idf': 0.6665021162060305}, {'index': 7922, 'tf-idf': 0.0037225417161878024, 'tf': 0.0037593984962406013, 'idf': 0.9901960965059555}, {'index': 2918, 'tf-idf': 0.0043772663751294625, 'tf': 0.0037593984962406013, 'idf': 1.1643528557844371}, {'index': 8893, 'tf-idf': 0.0018468219320294445, 'tf': 0.0018796992481203006, 'idf': 0.9825092678396645}, {'index': 4956, 'tf-idf': 0.002936640722662546, 'tf': 0.0018796992481203006, 'idf': 1.5622928644564746}, {'index': 4787, 'tf-idf': 0.0015549370578424424, 'tf': 0.0018796992481203006, 'idf': 0.8272265147721793}, {'index': 8665, 'tf-idf': 0.007117616855255259, 'tf': 0.0037593984962406013, 'idf': 1.893286083497899}, {'index': 356, 'tf-idf': 0.0025701433481962774, 'tf': 0.0018796992481203006, 'idf': 1.3673162612404197}, {'index': 8901, 'tf-idf': 0.0019619904597341863, 'tf': 0.0018796992481203006, 'idf': 1.0437789245785871}, {'index': 6119, 'tf-idf': 0.0028588349234929503, 'tf': 0.0018796992481203006, 'idf': 1.5209001792982497}, {'index': 9781, 'tf-idf': 0.003919495507024084, 'tf': 0.0018796992481203006, 'idf': 2.0851716097368125}, {'index': 2070, 'tf-idf': 0.004399331042932554, 'tf': 0.0018796992481203006, 'idf': 2.3404441148401185}, {'index': 10354, 'tf-idf': 0.0025876997885236146, 'tf': 0.0018796992481203006, 'idf': 1.3766562874945631}, {'index': 1399, 'tf-idf': 0.0015206112740561337, 'tf': 0.0018796992481203006, 'idf': 0.8089651977978632}, {'index': 5759, 'tf-idf': 0.0007611594906304615, 'tf': 0.0018796992481203006, 'idf': 0.4049368490154055}, {'index': 10544, 'tf-idf': 0.0011399338877852094, 'tf': 0.0018796992481203006, 'idf': 0.6064448283017314}, {'index': 3510, 'tf-idf': 0.003919495507024084, 'tf': 0.0018796992481203006, 'idf': 2.0851716097368125}, {'index': 6136, 'tf-idf': 0.0034498010084966398, 'tf': 0.0018796992481203006, 'idf': 1.8352941365202124}, {'index': 8184, 'tf-idf': 0.0032676393299100673, 'tf': 0.0018796992481203006, 'idf': 1.738384123512156}, {'index': 11900, 'tf-idf': 0.003502486579173789, 'tf': 0.0018796992481203006, 'idf': 1.863322860120456}, {'index': 11884, 'tf-idf': 0.0020922576525089598, 'tf': 0.0037593984962406013, 'idf': 0.5565405355673834}, {'index': 1955, 'tf-idf': 0.001176906682509183, 'tf': 0.0018796992481203006, 'idf': 0.6261143550948853}, {'index': 10943, 'tf-idf': 0.0019376202019064275, 'tf': 0.0018796992481203006, 'idf': 1.0308139474142195}, {'index': 9618, 'tf-idf': 0.0040156468650078825, 'tf': 0.0018796992481203006, 'idf': 2.1363241321841935}, {'index': 10175, 'tf-idf': 0.0033095122522994514, 'tf': 0.0018796992481203006, 'idf': 1.7606605182233082}, {'index': 11758, 'tf-idf': 0.0026619639638688656, 'tf': 0.0018796992481203006, 'idf': 1.4161648287782367}, {'index': 6897, 'tf-idf': 0.029497994148534618, 'tf': 0.020676691729323307, 'idf': 1.4266302624564016}, {'index': 2447, 'tf-idf': 0.0035963486799236353, 'tf': 0.0037593984962406013, 'idf': 0.9566287488596871}, {'index': 1743, 'tf-idf': 0.0014170240792638407, 'tf': 0.0018796992481203006, 'idf': 0.7538568101683634}, {'index': 5005, 'tf-idf': 0.0023707948661513037, 'tf': 0.0018796992481203006, 'idf': 1.2612628687924936}, {'index': 9029, 'tf-idf': 0.0013838685371346771, 'tf': 0.0018796992481203006, 'idf': 0.7362180617556483}, {'index': 56, 'tf-idf': 0.00296431601743831, 'tf': 0.0018796992481203006, 'idf': 1.5770161212771812}, {'index': 6403, 'tf-idf': 0.0009428477896670358, 'tf': 0.0018796992481203006, 'idf': 0.501595024102863}, {'index': 7932, 'tf-idf': 0.005039263589624504, 'tf': 0.0037593984962406013, 'idf': 1.3404441148401183}, {'index': 3801, 'tf-idf': 0.002125806579506555, 'tf': 0.0018796992481203006, 'idf': 1.1309291002974875}, {'index': 8812, 'tf-idf': 0.002318109295474154, 'tf': 0.0018796992481203006, 'idf': 1.23323414519225}, {'index': 3857, 'tf-idf': 0.0013920320352752453, 'tf': 0.0018796992481203006, 'idf': 0.7405610427664305}, {'index': 6022, 'tf-idf': 0.0028172161947880416, 'tf': 0.0037593984962406013, 'idf': 0.7493795078136191}, {'index': 8207, 'tf-idf': 0.0031535456450348573, 'tf': 0.0018796992481203006, 'idf': 1.6776862831585442}, {'index': 4380, 'tf-idf': 0.002765436832911921, 'tf': 0.0018796992481203006, 'idf': 1.471212395109142}, {'index': 4395, 'tf-idf': 0.0021995909764006786, 'tf': 0.0018796992481203006, 'idf': 1.170182399445161}, {'index': 6033, 'tf-idf': 0.0024181006469187996, 'tf': 0.0037593984962406013, 'idf': 0.6432147720804008}, {'index': 953, 'tf-idf': 0.0015960195883568526, 'tf': 0.0018796992481203006, 'idf': 0.8490824210058456}, {'index': 9194, 'tf-idf': 0.0027878037940015977, 'tf': 0.0018796992481203006, 'idf': 1.48311161840885}, {'index': 7888, 'tf-idf': 0.0006681710308733553, 'tf': 0.0018796992481203006, 'idf': 0.35546698842462504}, {'index': 5020, 'tf-idf': 0.0037556793872517143, 'tf': 0.0018796992481203006, 'idf': 1.998021434017912}, {'index': 5147, 'tf-idf': 0.003400310522176434, 'tf': 0.0018796992481203006, 'idf': 1.8089651977978631}, {'index': 12045, 'tf-idf': 0.0016732988844375134, 'tf': 0.0018796992481203006, 'idf': 0.8901950065207572}, {'index': 5569, 'tf-idf': 0.0019296558166747462, 'tf': 0.0018796992481203006, 'idf': 1.026576894470965}, {'index': 7813, 'tf-idf': 0.0040156468650078825, 'tf': 0.0018796992481203006, 'idf': 2.1363241321841935}, {'index': 1692, 'tf-idf': 0.004816339970782847, 'tf': 0.0018796992481203006, 'idf': 2.5622928644564746}, {'index': 3315, 'tf-idf': 0.004816339970782847, 'tf': 0.0018796992481203006, 'idf': 2.5622928644564746}, {'index': 106, 'tf-idf': 0.0033095122522994514, 'tf': 0.0018796992481203006, 'idf': 1.7606605182233082}, {'index': 12063, 'tf-idf': 0.0019062185223897871, 'tf': 0.0018796992481203006, 'idf': 1.0141082539113668}, {'index': 4518, 'tf-idf': 0.0014212648317153901, 'tf': 0.0018796992481203006, 'idf': 0.7561128904725876}, {'index': 329, 'tf-idf': 0.0018186693832143077, 'tf': 0.0018796992481203006, 'idf': 0.9675321118700118}, {'index': 622, 'tf-idf': 0.0037556793872517143, 'tf': 0.0018796992481203006, 'idf': 1.998021434017912}, {'index': 9992, 'tf-idf': 0.0028344646656651915, 'tf': 0.0018796992481203006, 'idf': 1.5079352021338819}, {'index': 2366, 'tf-idf': 0.0014170240792638407, 'tf': 0.0018796992481203006, 'idf': 0.7538568101683634}, {'index': 10769, 'tf-idf': 0.0015206112740561337, 'tf': 0.0018796992481203006, 'idf': 0.8089651977978632}, {'index': 10250, 'tf-idf': 0.0017981743399618176, 'tf': 0.0018796992481203006, 'idf': 0.9566287488596871}, {'index': 9589, 'tf-idf': 0.0012528235267030648, 'tf': 0.0018796992481203006, 'idf': 0.6665021162060305}, {'index': 10426, 'tf-idf': 0.0022219579374903545, 'tf': 0.0018796992481203006, 'idf': 1.1820816227448687}, {'index': 3852, 'tf-idf': 0.0023440271234546678, 'tf': 0.0018796992481203006, 'idf': 1.2470224296778833}, {'index': 11573, 'tf-idf': 0.004399331042932554, 'tf': 0.0018796992481203006, 'idf': 2.3404441148401185}, {'index': 8805, 'tf-idf': 0.0032132431893178133, 'tf': 0.0037593984962406013, 'idf': 0.8547226883585384}, {'index': 9557, 'tf-idf': 0.004585978133963415, 'tf': 0.0037593984962406013, 'idf': 1.2198701836342685}, {'index': 11684, 'tf-idf': 0.005873281445325092, 'tf': 0.0037593984962406013, 'idf': 1.5622928644564746}, {'index': 485, 'tf-idf': 0.0014170240792638407, 'tf': 0.0018796992481203006, 'idf': 0.7538568101683634}, {'index': 9747, 'tf-idf': 0.0014341208928625806, 'tf': 0.0018796992481203006, 'idf': 0.762952315002893}, {'index': 1315, 'tf-idf': 0.0027017934733988246, 'tf': 0.0018796992481203006, 'idf': 1.4373541278481747}, {'index': 2179, 'tf-idf': 0.0026619639638688656, 'tf': 0.0018796992481203006, 'idf': 1.4161648287782367}, {'index': 5978, 'tf-idf': 0.005006932116835341, 'tf': 0.0037593984962406013, 'idf': 1.3318439430782008}, {'index': 8349, 'tf-idf': 0.005175399577047229, 'tf': 0.0037593984962406013, 'idf': 1.3766562874945631}, {'index': 3129, 'tf-idf': 0.0033095122522994514, 'tf': 0.0018796992481203006, 'idf': 1.7606605182233082}, {'index': 2164, 'tf-idf': 0.0018256170252443147, 'tf': 0.0018796992481203006, 'idf': 0.9712282574299755}, {'index': 6311, 'tf-idf': 0.0010678992633781927, 'tf': 0.0018796992481203006, 'idf': 0.5681224081171985}, {'index': 3251, 'tf-idf': 0.001438451635173792, 'tf': 0.0018796992481203006, 'idf': 0.7652562699124573}, {'index': 8287, 'tf-idf': 0.0018256170252443147, 'tf': 0.0018796992481203006, 'idf': 0.9712282574299755}, {'index': 6766, 'tf-idf': 0.0015158233247819235, 'tf': 0.0018796992481203006, 'idf': 0.8064180087839833}, {'index': 3787, 'tf-idf': 0.0037556793872517143, 'tf': 0.0018796992481203006, 'idf': 1.998021434017912}, {'index': 9272, 'tf-idf': 0.0037556793872517143, 'tf': 0.0018796992481203006, 'idf': 1.998021434017912}, {'index': 9488, 'tf-idf': 0.0045048770915049096, 'tf': 0.005639097744360902, 'idf': 0.7988648708935374}, {'index': 11675, 'tf-idf': 0.01421543061651373, 'tf': 0.013157894736842105, 'idf': 1.0803727268550436}, {'index': 9004, 'tf-idf': 0.003400310522176434, 'tf': 0.0018796992481203006, 'idf': 1.8089651977978631}, {'index': 6469, 'tf-idf': 0.021014919475042734, 'tf': 0.011278195488721804, 'idf': 1.863322860120456}, {'index': 10522, 'tf-idf': 0.0027677370742693543, 'tf': 0.0037593984962406013, 'idf': 0.7362180617556483}, {'index': 8648, 'tf-idf': 0.0023984701609270674, 'tf': 0.0018796992481203006, 'idf': 1.2759861256132}, {'index': 637, 'tf-idf': 0.0054873327915764165, 'tf': 0.0037593984962406013, 'idf': 1.459630522559327}, {'index': 6009, 'tf-idf': 0.0029569965721663303, 'tf': 0.0037593984962406013, 'idf': 0.7865610881962439}, {'index': 10099, 'tf-idf': 0.0018685923691531573, 'tf': 0.0018796992481203006, 'idf': 0.9940911403894798}, {'index': 3340, 'tf-idf': 0.004099695677877401, 'tf': 0.007518796992481203, 'idf': 0.5452595251576944}, {'index': 509, 'tf-idf': 0.004561426001786883, 'tf': 0.0037593984962406013, 'idf': 1.2133393164753108}, {'index': 5436, 'tf-idf': 0.003130030989264238, 'tf': 0.0037593984962406013, 'idf': 0.8325882431442874}, {'index': 10485, 'tf-idf': 0.002244955036018572, 'tf': 0.0018796992481203006, 'idf': 1.1943160791618803}, {'index': 337, 'tf-idf': 0.0015499441186624797, 'tf': 0.0018796992481203006, 'idf': 0.8245702711284393}, {'index': 1964, 'tf-idf': 0.0031898335307404715, 'tf': 0.0018796992481203006, 'idf': 1.6969914383539308}, {'index': 2262, 'tf-idf': 0.0028344646656651915, 'tf': 0.0018796992481203006, 'idf': 1.5079352021338819}, {'index': 3888, 'tf-idf': 0.0029623447355416935, 'tf': 0.007518796992481203, 'idf': 0.39399184982704527}, {'index': 10673, 'tf-idf': 0.0028427819500001874, 'tf': 0.005639097744360902, 'idf': 0.5041199991333666}, {'index': 4092, 'tf-idf': 0.002765436832911921, 'tf': 0.0018796992481203006, 'idf': 1.471212395109142}, {'index': 11194, 'tf-idf': 0.011500455559263932, 'tf': 0.005639097744360902, 'idf': 2.0394141191761372}, {'index': 7411, 'tf-idf': 0.0018612708580939012, 'tf': 0.0018796992481203006, 'idf': 0.9901960965059555}, {'index': 3993, 'tf-idf': 0.0013251134737315906, 'tf': 0.0018796992481203006, 'idf': 0.7049603680252062}, {'index': 3708, 'tf-idf': 0.0018396922534257996, 'tf': 0.0018796992481203006, 'idf': 0.9787162788225254}, {'index': 1043, 'tf-idf': 0.002519631794812252, 'tf': 0.0018796992481203006, 'idf': 1.3404441148401183}, {'index': 7718, 'tf-idf': 0.0031188024012491185, 'tf': 0.0018796992481203006, 'idf': 1.659202877464531}, {'index': 3634, 'tf-idf': 0.002885610949773076, 'tf': 0.0037593984962406013, 'idf': 0.7675725126396382}, {'index': 758, 'tf-idf': 0.0017279342953358157, 'tf': 0.0037593984962406013, 'idf': 0.459630522559327}, {'index': 5968, 'tf-idf': 0.0014170240792638407, 'tf': 0.0018796992481203006, 'idf': 0.7538568101683634}, {'index': 2109, 'tf-idf': 0.0027017934733988246, 'tf': 0.0018796992481203006, 'idf': 1.4373541278481747}, {'index': 320, 'tf-idf': 0.0020769091502491903, 'tf': 0.0018796992481203006, 'idf': 1.1049156679325693}, {'index': 2870, 'tf-idf': 0.00296431601743831, 'tf': 0.0018796992481203006, 'idf': 1.5770161212771812}, {'index': 110, 'tf-idf': 0.0018256170252443147, 'tf': 0.0018796992481203006, 'idf': 0.9712282574299755}, {'index': 4417, 'tf-idf': 0.0009264501046955002, 'tf': 0.0018796992481203006, 'idf': 0.4928714556980061}, {'index': 7704, 'tf-idf': 0.0031188024012491185, 'tf': 0.0018796992481203006, 'idf': 1.659202877464531}, {'index': 11001, 'tf-idf': 0.0022441140981642425, 'tf': 0.0037593984962406013, 'idf': 0.5969343501116886}, {'index': 8034, 'tf-idf': 0.0024050390890793193, 'tf': 0.0037593984962406013, 'idf': 0.6397403976950989}, {'index': 9541, 'tf-idf': 0.002244955036018572, 'tf': 0.0018796992481203006, 'idf': 1.1943160791618803}, {'index': 6347, 'tf-idf': 0.0031898335307404715, 'tf': 0.0018796992481203006, 'idf': 1.6969914383539308}, {'index': 398, 'tf-idf': 0.0027436663957882083, 'tf': 0.0018796992481203006, 'idf': 1.459630522559327}, {'index': 8091, 'tf-idf': 0.0014341208928625806, 'tf': 0.0018796992481203006, 'idf': 0.762952315002893}, {'index': 12181, 'tf-idf': 0.0015449815318838926, 'tf': 0.0018796992481203006, 'idf': 0.8219301749622309}, {'index': 67, 'tf-idf': 0.0017781812669434248, 'tf': 0.0018796992481203006, 'idf': 0.9459924340139021}, {'index': 6570, 'tf-idf': 0.0021995909764006786, 'tf': 0.0018796992481203006, 'idf': 1.170182399445161}, {'index': 8491, 'tf-idf': 0.0013327074169679441, 'tf': 0.0018796992481203006, 'idf': 0.7090003458269464}, {'index': 2738, 'tf-idf': 0.002876903270347584, 'tf': 0.0037593984962406013, 'idf': 0.7652562699124573}, {'index': 2416, 'tf-idf': 0.0034498010084966398, 'tf': 0.0018796992481203006, 'idf': 1.8352941365202124}, {'index': 6138, 'tf-idf': 0.002096118107357623, 'tf': 0.0018796992481203006, 'idf': 1.1151348331142554}, {'index': 5284, 'tf-idf': 0.00335364965051284, 'tf': 0.0018796992481203006, 'idf': 1.784141614072831}, {'index': 1867, 'tf-idf': 0.0033095122522994514, 'tf': 0.0018796992481203006, 'idf': 1.7606605182233082}, {'index': 2181, 'tf-idf': 0.005147338578030368, 'tf': 0.0018796992481203006, 'idf': 2.738384123512156}, {'index': 6714, 'tf-idf': 0.005147338578030368, 'tf': 0.0018796992481203006, 'idf': 2.738384123512156}, {'index': 4983, 'tf-idf': 0.005147338578030368, 'tf': 0.0018796992481203006, 'idf': 2.738384123512156}, {'index': 4376, 'tf-idf': 0.001263267289755861, 'tf': 0.0018796992481203006, 'idf': 0.6720581981501181}, {'index': 621, 'tf-idf': 0.0014044324207136485, 'tf': 0.0018796992481203006, 'idf': 0.7471580478196611}, {'index': 704, 'tf-idf': 0.0011896126668086127, 'tf': 0.0018796992481203006, 'idf': 0.632873938742182}, {'index': 3638, 'tf-idf': 0.004399331042932554, 'tf': 0.0018796992481203006, 'idf': 2.3404441148401185}, {'index': 3326, 'tf-idf': 0.0023707948661513037, 'tf': 0.0018796992481203006, 'idf': 1.2612628687924936}, {'index': 6042, 'tf-idf': 0.005575607588003195, 'tf': 0.0037593984962406013, 'idf': 1.48311161840885}, {'index': 10486, 'tf-idf': 0.0027224614890030787, 'tf': 0.0018796992481203006, 'idf': 1.448349512149638}, {'index': 587, 'tf-idf': 0.0014739504023925393, 'tf': 0.0018796992481203006, 'idf': 0.784141614072831}, {'index': 6319, 'tf-idf': 0.0035588084276276296, 'tf': 0.0018796992481203006, 'idf': 1.893286083497899}, {'index': 6011, 'tf-idf': 0.0010542248563576951, 'tf': 0.0018796992481203006, 'idf': 0.5608476235822938}, {'index': 279, 'tf-idf': 0.0035588084276276296, 'tf': 0.0018796992481203006, 'idf': 1.893286083497899}, {'index': 11002, 'tf-idf': 0.007004973158347578, 'tf': 0.0037593984962406013, 'idf': 1.863322860120456}, {'index': 8686, 'tf-idf': 0.001661800905471946, 'tf': 0.0018796992481203006, 'idf': 0.8840780817110754}, {'index': 11582, 'tf-idf': 0.002765436832911921, 'tf': 0.0018796992481203006, 'idf': 1.471212395109142}, {'index': 7725, 'tf-idf': 0.00562160178505963, 'tf': 0.0037593984962406013, 'idf': 1.4953460748258616}, {'index': 9202, 'tf-idf': 0.0011896126668086127, 'tf': 0.0018796992481203006, 'idf': 0.632873938742182}, {'index': 8795, 'tf-idf': 0.004714602572050263, 'tf': 0.0037593984962406013, 'idf': 1.25408428416537}, {'index': 5107, 'tf-idf': 0.0017781812669434248, 'tf': 0.0018796992481203006, 'idf': 0.9459924340139021}, {'index': 7165, 'tf-idf': 0.0026962211445196163, 'tf': 0.0037593984962406013, 'idf': 0.7171948244422179}, {'index': 10195, 'tf-idf': 0.003227809820380109, 'tf': 0.0018796992481203006, 'idf': 1.717194824442218}, {'index': 2150, 'tf-idf': 0.0016908553247648509, 'tf': 0.0018796992481203006, 'idf': 0.8995350327749007}, {'index': 11100, 'tf-idf': 0.0026056421154150252, 'tf': 0.0018796992481203006, 'idf': 1.3862016054007935}, {'index': 8159, 'tf-idf': 0.0012528235267030648, 'tf': 0.0018796992481203006, 'idf': 0.6665021162060305}, {'index': 1322, 'tf-idf': 0.0023309653566213444, 'tf': 0.0018796992481203006, 'idf': 1.2400735697225553}, {'index': 7217, 'tf-idf': 0.0009264501046955002, 'tf': 0.0018796992481203006, 'idf': 0.4928714556980061}, {'index': 2157, 'tf-idf': 0.0022686188091539487, 'tf': 0.0018796992481203006, 'idf': 1.2069052064699008}, {'index': 10958, 'tf-idf': 0.0006514421050731336, 'tf': 0.0018796992481203006, 'idf': 0.3465671998989071}, {'index': 2624, 'tf-idf': 0.005147338578030368, 'tf': 0.0018796992481203006, 'idf': 2.738384123512156}, {'index': 5330, 'tf-idf': 0.0018759801391314136, 'tf': 0.0018796992481203006, 'idf': 0.9980214340179121}, {'index': 9583, 'tf-idf': 0.0013757858670355718, 'tf': 0.0018796992481203006, 'idf': 0.7319180812629242}, {'index': 6853, 'tf-idf': 0.00296431601743831, 'tf': 0.0018796992481203006, 'idf': 1.5770161212771812}, {'index': 5308, 'tf-idf': 0.0030534600962506, 'tf': 0.0018796992481203006, 'idf': 1.6244407712053193}, {'index': 7227, 'tf-idf': 0.0024918690305249067, 'tf': 0.0037593984962406013, 'idf': 0.6628371621196252}, {'index': 6132, 'tf-idf': 0.001580370361319012, 'tf': 0.0018796992481203006, 'idf': 0.8407570322217145}, {'index': 3385, 'tf-idf': 0.0018685923691531573, 'tf': 0.0018796992481203006, 'idf': 0.9940911403894798}, {'index': 6588, 'tf-idf': 0.0015158233247819235, 'tf': 0.0018796992481203006, 'idf': 0.8064180087839833}, {'index': 6930, 'tf-idf': 0.001684961125793312, 'tf': 0.0018796992481203006, 'idf': 0.896399318922042}, {'index': 9371, 'tf-idf': 0.0005006756124283356, 'tf': 0.0018796992481203006, 'idf': 0.26635942581187455}, {'index': 5313, 'tf-idf': 0.0022219579374903545, 'tf': 0.0018796992481203006, 'idf': 1.1820816227448687}, {'index': 11784, 'tf-idf': 0.0029209136445327356, 'tf': 0.0037593984962406013, 'idf': 0.7769630294457077}, {'index': 10920, 'tf-idf': 0.003400310522176434, 'tf': 0.0018796992481203006, 'idf': 1.8089651977978631}, {'index': 9509, 'tf-idf': 0.0017209821018967129, 'tf': 0.0018796992481203006, 'idf': 0.9155624782090513}, {'index': 705, 'tf-idf': 0.003022651043265319, 'tf': 0.0018796992481203006, 'idf': 1.6080503550171499}, {'index': 2475, 'tf-idf': 0.003227809820380109, 'tf': 0.0018796992481203006, 'idf': 1.717194824442218}, {'index': 9824, 'tf-idf': 0.0009523679326760138, 'tf': 0.0018796992481203006, 'idf': 0.5066597401836394}, {'index': 11238, 'tf-idf': 0.0005117636336352569, 'tf': 0.0018796992481203006, 'idf': 0.2722582530939567}, {'index': 6900, 'tf-idf': 0.0011399338877852094, 'tf': 0.0018796992481203006, 'idf': 0.6064448283017314}, {'index': 208, 'tf-idf': 0.0013598567175173296, 'tf': 0.0018796992481203006, 'idf': 0.7234437737192194}, {'index': 10289, 'tf-idf': 0.001702772952642706, 'tf': 0.0018796992481203006, 'idf': 0.9058752108059196}, {'index': 5640, 'tf-idf': 0.0023707948661513037, 'tf': 0.0018796992481203006, 'idf': 1.2612628687924936}, {'index': 7207, 'tf-idf': 0.0008200559145788624, 'tf': 0.0018796992481203006, 'idf': 0.4362697465559548}, {'index': 11138, 'tf-idf': 0.0009941148664840695, 'tf': 0.0018796992481203006, 'idf': 0.528869108969525}, {'index': 3021, 'tf-idf': 0.0034498010084966398, 'tf': 0.0018796992481203006, 'idf': 1.8352941365202124}, {'index': 4842, 'tf-idf': 0.002765436832911921, 'tf': 0.0018796992481203006, 'idf': 1.471212395109142}, {'index': 11737, 'tf-idf': 0.002765436832911921, 'tf': 0.0018796992481203006, 'idf': 1.471212395109142}, {'index': 11484, 'tf-idf': 0.003502486579173789, 'tf': 0.0018796992481203006, 'idf': 1.863322860120456}, {'index': 6402, 'tf-idf': 0.003022651043265319, 'tf': 0.0018796992481203006, 'idf': 1.6080503550171499}, {'index': 4162, 'tf-idf': 0.002210697855367822, 'tf': 0.0018796992481203006, 'idf': 1.1760912590556813}, {'index': 967, 'tf-idf': 0.001079006142345336, 'tf': 0.0018796992481203006, 'idf': 0.5740312677277188}, {'index': 4835, 'tf-idf': 0.0024418259956426568, 'tf': 0.0018796992481203006, 'idf': 1.2990514296818934}, {'index': 3456, 'tf-idf': 0.003919495507024084, 'tf': 0.0018796992481203006, 'idf': 2.0851716097368125}, {'index': 3010, 'tf-idf': 0.004399331042932554, 'tf': 0.0018796992481203006, 'idf': 2.3404441148401185}, {'index': 1766, 'tf-idf': 0.0027017934733988246, 'tf': 0.0018796992481203006, 'idf': 1.4373541278481747}, {'index': 800, 'tf-idf': 0.003227809820380109, 'tf': 0.0018796992481203006, 'idf': 1.717194824442218}, {'index': 8390, 'tf-idf': 0.0019702782772248917, 'tf': 0.0018796992481203006, 'idf': 1.0481880434836424}, {'index': 3818, 'tf-idf': 0.004816339970782847, 'tf': 0.0018796992481203006, 'idf': 2.5622928644564746}, {'index': 2411, 'tf-idf': 0.002519631794812252, 'tf': 0.0018796992481203006, 'idf': 1.3404441148401183}, {'index': 7201, 'tf-idf': 0.0023573012860251315, 'tf': 0.0018796992481203006, 'idf': 1.25408428416537}, {'index': 313, 'tf-idf': 0.0022219579374903545, 'tf': 0.0018796992481203006, 'idf': 1.1820816227448687}, {'index': 3667, 'tf-idf': 0.004581492721519125, 'tf': 0.0018796992481203006, 'idf': 2.4373541278481747}, {'index': 3185, 'tf-idf': 0.002681635831684965, 'tf': 0.0018796992481203006, 'idf': 1.4266302624564016}, {'index': 11079, 'tf-idf': 0.0031898335307404715, 'tf': 0.0018796992481203006, 'idf': 1.6969914383539308}, {'index': 564, 'tf-idf': 0.0017209821018967129, 'tf': 0.0018796992481203006, 'idf': 0.9155624782090513}, {'index': 2631, 'tf-idf': 0.0019702782772248917, 'tf': 0.0018796992481203006, 'idf': 1.0481880434836424}, {'index': 5387, 'tf-idf': 0.0011161840524483828, 'tf': 0.0018796992481203006, 'idf': 0.5938099159025396}, {'index': 2958, 'tf-idf': 0.002765436832911921, 'tf': 0.0018796992481203006, 'idf': 1.471212395109142}, {'index': 4027, 'tf-idf': 0.0014255277291887398, 'tf': 0.0018796992481203006, 'idf': 0.7583807519284096}, {'index': 835, 'tf-idf': 0.0022567011812760934, 'tf': 0.0018796992481203006, 'idf': 1.2005650284388818}, {'index': 2236, 'tf-idf': 0.0025876997885236146, 'tf': 0.0018796992481203006, 'idf': 1.3766562874945631}, {'index': 6020, 'tf-idf': 0.0013520072050095546, 'tf': 0.0018796992481203006, 'idf': 0.7192678330650831}, {'index': 6740, 'tf-idf': 0.0014212648317153901, 'tf': 0.0018796992481203006, 'idf': 0.7561128904725876}, {'index': 5092, 'tf-idf': 0.0038334851864213104, 'tf': 0.0018796992481203006, 'idf': 2.0394141191761372}, {'index': 4172, 'tf-idf': 0.0022219579374903545, 'tf': 0.0018796992481203006, 'idf': 1.1820816227448687}, {'index': 314, 'tf-idf': 0.0031535456450348573, 'tf': 0.0018796992481203006, 'idf': 1.6776862831585442}, {'index': 5979, 'tf-idf': 0.002992962571116387, 'tf': 0.0018796992481203006, 'idf': 1.5922560878339178}, {'index': 10122, 'tf-idf': 0.002177820539276966, 'tf': 0.0018796992481203006, 'idf': 1.1586005268953459}, {'index': 1798, 'tf-idf': 0.001400277994388241, 'tf': 0.0018796992481203006, 'idf': 0.7449478930145442}, {'index': 3692, 'tf-idf': 0.0014471826596959038, 'tf': 0.0018796992481203006, 'idf': 0.7699011749582209}, {'index': 2439, 'tf-idf': 0.001913956428771051, 'tf': 0.0018796992481203006, 'idf': 1.0182248201061992}, {'index': 2110, 'tf-idf': 0.003227809820380109, 'tf': 0.0018796992481203006, 'idf': 1.717194824442218}, {'index': 8592, 'tf-idf': 0.0025876997885236146, 'tf': 0.0018796992481203006, 'idf': 1.3766562874945631}, {'index': 10243, 'tf-idf': 0.0005089774773092532, 'tf': 0.0018796992481203006, 'idf': 0.2707760179285227}, {'index': 10148, 'tf-idf': 0.0031898335307404715, 'tf': 0.0018796992481203006, 'idf': 1.6969914383539308}, {'index': 2637, 'tf-idf': 0.0013442324508993317, 'tf': 0.0018796992481203006, 'idf': 0.7151316638784445}, {'index': 10177, 'tf-idf': 0.0031535456450348573, 'tf': 0.0018796992481203006, 'idf': 1.6776862831585442}, {'index': 11042, 'tf-idf': 0.0035588084276276296, 'tf': 0.0018796992481203006, 'idf': 1.893286083497899}, {'index': 9863, 'tf-idf': 0.0040156468650078825, 'tf': 0.0018796992481203006, 'idf': 2.1363241321841935}, {'index': 8333, 'tf-idf': 0.0035588084276276296, 'tf': 0.0018796992481203006, 'idf': 1.893286083497899}, {'index': 7108, 'tf-idf': 0.0036193059527618423, 'tf': 0.0018796992481203006, 'idf': 1.9254707668693003}, {'index': 11075, 'tf-idf': 0.0022219579374903545, 'tf': 0.0018796992481203006, 'idf': 1.1820816227448687}, {'index': 226, 'tf-idf': 0.001580370361319012, 'tf': 0.0018796992481203006, 'idf': 0.8407570322217145}, {'index': 10885, 'tf-idf': 0.0016732988844375134, 'tf': 0.0018796992481203006, 'idf': 0.8901950065207572}, {'index': 3903, 'tf-idf': 0.0012845644022237113, 'tf': 0.0018796992481203006, 'idf': 0.6833882619830145}, {'index': 10805, 'tf-idf': 0.0017651195001101019, 'tf': 0.0018796992481203006, 'idf': 0.9390435740585742}, {'index': 6535, 'tf-idf': 0.0011490212878709554, 'tf': 0.0018796992481203006, 'idf': 0.6112793251473483}, {'index': 6424, 'tf-idf': 0.0032676393299100673, 'tf': 0.0018796992481203006, 'idf': 1.738384123512156}, {'index': 5409, 'tf-idf': 0.003400310522176434, 'tf': 0.0018796992481203006, 'idf': 1.8089651977978631}, {'index': 1262, 'tf-idf': 0.0030534600962506, 'tf': 0.0018796992481203006, 'idf': 1.6244407712053193}, {'index': 5351, 'tf-idf': 0.001313853391609058, 'tf': 0.0018796992481203006, 'idf': 0.6989700043360189}, {'index': 7393, 'tf-idf': 0.0026056421154150252, 'tf': 0.0018796992481203006, 'idf': 1.3862016054007935}, {'index': 3984, 'tf-idf': 0.0034498010084966398, 'tf': 0.0018796992481203006, 'idf': 1.8352941365202124}, {'index': 6509, 'tf-idf': 0.0028588349234929503, 'tf': 0.0018796992481203006, 'idf': 1.5209001792982497}, {'index': 5090, 'tf-idf': 0.002623987674229229, 'tf': 0.0018796992481203006, 'idf': 1.3959614426899498}, {'index': 1527, 'tf-idf': 0.0015960195883568526, 'tf': 0.0018796992481203006, 'idf': 0.8490824210058456}, {'index': 11549, 'tf-idf': 0.0010354575238264903, 'tf': 0.0018796992481203006, 'idf': 0.5508634026756929}, {'index': 5366, 'tf-idf': 0.004124654284138872, 'tf': 0.0018796992481203006, 'idf': 2.1943160791618803}, {'index': 4102, 'tf-idf': 0.0022686188091539487, 'tf': 0.0018796992481203006, 'idf': 1.2069052064699008}, {'index': 2925, 'tf-idf': 0.0037556793872517143, 'tf': 0.0018796992481203006, 'idf': 1.998021434017912}, {'index': 11149, 'tf-idf': 0.0036193059527618423, 'tf': 0.0018796992481203006, 'idf': 1.9254707668693003}, {'index': 3458, 'tf-idf': 0.0028344646656651915, 'tf': 0.0018796992481203006, 'idf': 1.5079352021338819}, {'index': 12012, 'tf-idf': 0.0016066215946589067, 'tf': 0.0018796992481203006, 'idf': 0.8547226883585384}]\n"
     ]
    }
   ],
   "source": [
    "# 以隨機文件做測試\n",
    "print(tfidf_vectors[597])"
   ]
  },
  {
   "cell_type": "code",
   "execution_count": 12,
   "id": "b1e78ce7",
   "metadata": {},
   "outputs": [],
   "source": [
    "output_folder = \"output\"\n",
    "os.makedirs(output_folder, exist_ok=True)\n",
    "\n",
    "# 將每個文件的 tf-idf 儲存\n",
    "for document_index, words in enumerate(processed_texts, start=1):\n",
    "    # 文件名為 Docid.txt\n",
    "    document_filename = f\"{document_index}.txt\"\n",
    "    \n",
    "    with open(os.path.join(output_folder, document_filename), \"w\", encoding=\"utf-8\") as file:\n",
    "        # Header\n",
    "        file.write(\"t_index   tf-idf\\n\")\n",
    "    \n",
    "        for tfidf_info in tfidf_vectors[document_index - 1]:\n",
    "            line = \"{:<8}  {}\\n\".format(tfidf_info['index'], tfidf_info['tf-idf'])\n",
    "            file.write(line)"
   ]
  },
  {
   "cell_type": "markdown",
   "id": "8be56bd1",
   "metadata": {},
   "source": [
    "### Write a function cosine(Docx, Docy) which loads the tf-idf vectors of documents x and y and returns their cosine similarity."
   ]
  },
  {
   "cell_type": "code",
   "execution_count": 13,
   "id": "96e4aaf5",
   "metadata": {},
   "outputs": [],
   "source": [
    "import pandas as pd\n",
    "\n",
    "def getDoc(filepath):\n",
    "    t_index_list = []\n",
    "    tfidf_list = []\n",
    "    \n",
    "    # 讀取檔案並將其轉為Dataframe形式以便之後處理資料\n",
    "    with open(filepath, 'r', encoding='utf-8') as file:\n",
    "        # 跳過Header\n",
    "        next(file)\n",
    "        for line in file:\n",
    "            parts = line.strip().split()\n",
    "            if len(parts) == 2:\n",
    "                t_index, tfidf = int(parts[0]), float(parts[1])\n",
    "                t_index_list.append(t_index)\n",
    "                tfidf_list.append(tfidf)\n",
    "\n",
    "    data = {'t_index': t_index_list, 'tf_idf': tfidf_list}\n",
    "    df = pd.DataFrame(data)\n",
    "    return df"
   ]
  },
  {
   "cell_type": "code",
   "execution_count": 14,
   "id": "69943156",
   "metadata": {},
   "outputs": [
    {
     "name": "stdout",
     "output_type": "stream",
     "text": [
      "     t_index    tf-idf\n",
      "0      11970  0.005025\n",
      "1       4970  0.003534\n",
      "2        338  0.002228\n",
      "3       5710  0.005692\n",
      "4       1955  0.003865\n",
      "..       ...       ...\n",
      "120     7207  0.002693\n",
      "121     6102  0.005632\n",
      "122    10426  0.007297\n",
      "123     7561  0.008118\n",
      "124     7217  0.003042\n",
      "\n",
      "[125 rows x 2 columns]\n"
     ]
    }
   ],
   "source": [
    "## 以文件一做測試\n",
    "dataframe = getDoc('./output/1.txt')\n",
    "print(dataframe)"
   ]
  },
  {
   "cell_type": "code",
   "execution_count": 15,
   "id": "56175d77",
   "metadata": {},
   "outputs": [],
   "source": [
    "# 計算其unit vector\n",
    "def norm(tfidf_List):\n",
    "    norm_vector = sum(tfidf ** 2 for tfidf in tfidf_List) ** 0.5\n",
    "    return norm_vector"
   ]
  },
  {
   "cell_type": "code",
   "execution_count": 16,
   "id": "83078061",
   "metadata": {},
   "outputs": [],
   "source": [
    "def cosine(doc1, doc2):\n",
    "    \n",
    "    #讀取兩個檔案\n",
    "    doc1_df = getDoc(doc1)\n",
    "    doc2_df = getDoc(doc2)\n",
    "    \n",
    "    #將tf-idf欄位分別重新命名，以便merge後做內積\n",
    "    doc1_df.rename(columns={'tf-idf':'docX'}, inplace=True)\n",
    "    doc2_df.rename(columns={'tf-idf':'docY'}, inplace=True)  \n",
    "    \n",
    "    # 以t_inde做outer merge\n",
    "    merged_df = pd.merge(doc1_df, doc2_df, on='t_index', how='outer').fillna(0)\n",
    "    \n",
    "    # 轉換為unit vector\n",
    "    docX_norm = norm(merged_df['docX'].to_list())\n",
    "    docY_norm = norm(merged_df['docY'].to_list())\n",
    "    \n",
    "    similarity = 0\n",
    "    \n",
    "    # 計算cosine similarity\n",
    "    for index, row in merged_df.iterrows():\n",
    "        similarity += (row['docX']/docX_norm) * (row['docY']/docY_norm)\n",
    "    \n",
    "    return similarity"
   ]
  },
  {
   "cell_type": "code",
   "execution_count": 17,
   "id": "5495ea60",
   "metadata": {},
   "outputs": [
    {
     "name": "stdout",
     "output_type": "stream",
     "text": [
      "Cosine Similarity: 0.20222730203538028\n"
     ]
    }
   ],
   "source": [
    "similarity = cosine('./output/1.txt', './output/2.txt')\n",
    "print(f'Cosine Similarity: {similarity}')"
   ]
  }
 ],
 "metadata": {
  "kernelspec": {
   "display_name": "Python 3 (ipykernel)",
   "language": "python",
   "name": "python3"
  },
  "language_info": {
   "codemirror_mode": {
    "name": "ipython",
    "version": 3
   },
   "file_extension": ".py",
   "mimetype": "text/x-python",
   "name": "python",
   "nbconvert_exporter": "python",
   "pygments_lexer": "ipython3",
   "version": "3.11.5"
  }
 },
 "nbformat": 4,
 "nbformat_minor": 5
}
